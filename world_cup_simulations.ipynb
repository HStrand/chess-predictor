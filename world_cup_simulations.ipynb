{
 "cells": [
  {
   "cell_type": "code",
   "execution_count": 1,
   "metadata": {
    "collapsed": true
   },
   "outputs": [],
   "source": [
    "import pandas as pd\n",
    "from player import Player\n",
    "from ratingscraper import *\n",
    "from scorescraper import *\n",
    "from estimation import *\n",
    "from simulations import *"
   ]
  },
  {
   "cell_type": "markdown",
   "metadata": {},
   "source": [
    "## Generate players"
   ]
  },
  {
   "cell_type": "code",
   "execution_count": 7,
   "metadata": {
    "collapsed": true
   },
   "outputs": [],
   "source": [
    "df = pd.read_csv('wcplayers.csv')"
   ]
  },
  {
   "cell_type": "code",
   "execution_count": 8,
   "metadata": {
    "collapsed": false,
    "scrolled": false
   },
   "outputs": [
    {
     "data": {
      "text/html": [
       "<div>\n",
       "<table border=\"1\" class=\"dataframe\">\n",
       "  <thead>\n",
       "    <tr style=\"text-align: right;\">\n",
       "      <th></th>\n",
       "      <th>﻿Player</th>\n",
       "      <th>FideId</th>\n",
       "    </tr>\n",
       "  </thead>\n",
       "  <tbody>\n",
       "    <tr>\n",
       "      <th>0</th>\n",
       "      <td>Peter Svidler</td>\n",
       "      <td>4102142</td>\n",
       "    </tr>\n",
       "    <tr>\n",
       "      <th>1</th>\n",
       "      <td>Maxime Vachier-Lagrave</td>\n",
       "      <td>623539</td>\n",
       "    </tr>\n",
       "    <tr>\n",
       "      <th>2</th>\n",
       "      <td>Vassily Ivanchuk</td>\n",
       "      <td>14100010</td>\n",
       "    </tr>\n",
       "    <tr>\n",
       "      <th>3</th>\n",
       "      <td>Levon Aronian</td>\n",
       "      <td>13300474</td>\n",
       "    </tr>\n",
       "    <tr>\n",
       "      <th>4</th>\n",
       "      <td>Wesley So</td>\n",
       "      <td>5202213</td>\n",
       "    </tr>\n",
       "    <tr>\n",
       "      <th>5</th>\n",
       "      <td>Vladimir Fedoseev</td>\n",
       "      <td>24130737</td>\n",
       "    </tr>\n",
       "    <tr>\n",
       "      <th>6</th>\n",
       "      <td>Richard Rapport</td>\n",
       "      <td>738590</td>\n",
       "    </tr>\n",
       "    <tr>\n",
       "      <th>7</th>\n",
       "      <td>Ding Liren</td>\n",
       "      <td>8603677</td>\n",
       "    </tr>\n",
       "  </tbody>\n",
       "</table>\n",
       "</div>"
      ],
      "text/plain": [
       "                  ﻿Player    FideId\n",
       "0           Peter Svidler   4102142\n",
       "1  Maxime Vachier-Lagrave    623539\n",
       "2        Vassily Ivanchuk  14100010\n",
       "3           Levon Aronian  13300474\n",
       "4               Wesley So   5202213\n",
       "5       Vladimir Fedoseev  24130737\n",
       "6         Richard Rapport    738590\n",
       "7              Ding Liren   8603677"
      ]
     },
     "execution_count": 8,
     "metadata": {},
     "output_type": "execute_result"
    }
   ],
   "source": [
    "df"
   ]
  },
  {
   "cell_type": "code",
   "execution_count": 12,
   "metadata": {
    "collapsed": false
   },
   "outputs": [],
   "source": [
    "players = []\n",
    "for x in df.iterrows():\n",
    "    row = x[1]\n",
    "    players.append(Player(name=row[0], fide_id=row[1]))"
   ]
  },
  {
   "cell_type": "markdown",
   "metadata": {},
   "source": [
    "## Web scraping"
   ]
  },
  {
   "cell_type": "code",
   "execution_count": 13,
   "metadata": {
    "collapsed": true
   },
   "outputs": [],
   "source": [
    "scrape_ratings(players)"
   ]
  },
  {
   "cell_type": "code",
   "execution_count": 14,
   "metadata": {
    "collapsed": false,
    "scrolled": true
   },
   "outputs": [
    {
     "data": {
      "text/plain": [
       "[Peter Svidler (2756),\n",
       " Maxime Vachier-Lagrave (2804),\n",
       " Vassily Ivanchuk (2727),\n",
       " Levon Aronian (2802),\n",
       " Wesley So (2792),\n",
       " Vladimir Fedoseev (2731),\n",
       " Richard Rapport (2675),\n",
       " Ding Liren (2771)]"
      ]
     },
     "execution_count": 14,
     "metadata": {},
     "output_type": "execute_result"
    }
   ],
   "source": [
    "players"
   ]
  },
  {
   "cell_type": "code",
   "execution_count": 15,
   "metadata": {
    "collapsed": true
   },
   "outputs": [],
   "source": [
    "playerdict = {player.name: player for player in players}"
   ]
  },
  {
   "cell_type": "code",
   "execution_count": 16,
   "metadata": {
    "collapsed": false,
    "scrolled": true
   },
   "outputs": [
    {
     "name": "stdout",
     "output_type": "stream",
     "text": [
      "Fetching head-to-head score between Peter Svidler and Peter Svidler\n",
      "Fetching head-to-head score between Peter Svidler and Maxime Vachier-Lagrave\n",
      "Fetching head-to-head score between Peter Svidler and Vassily Ivanchuk\n",
      "Fetching head-to-head score between Peter Svidler and Levon Aronian\n",
      "Fetching head-to-head score between Peter Svidler and Wesley So\n",
      "Fetching head-to-head score between Peter Svidler and Vladimir Fedoseev\n",
      "Fetching head-to-head score between Peter Svidler and Richard Rapport\n",
      "Fetching head-to-head score between Peter Svidler and Ding Liren\n",
      "Fetching head-to-head score between Maxime Vachier-Lagrave and Peter Svidler\n",
      "Fetching head-to-head score between Maxime Vachier-Lagrave and Maxime Vachier-Lagrave\n",
      "Fetching head-to-head score between Maxime Vachier-Lagrave and Vassily Ivanchuk\n",
      "Fetching head-to-head score between Maxime Vachier-Lagrave and Levon Aronian\n",
      "Fetching head-to-head score between Maxime Vachier-Lagrave and Wesley So\n",
      "Fetching head-to-head score between Maxime Vachier-Lagrave and Vladimir Fedoseev\n",
      "Fetching head-to-head score between Maxime Vachier-Lagrave and Richard Rapport\n",
      "Fetching head-to-head score between Maxime Vachier-Lagrave and Ding Liren\n",
      "Fetching head-to-head score between Vassily Ivanchuk and Peter Svidler\n",
      "Fetching head-to-head score between Vassily Ivanchuk and Maxime Vachier-Lagrave\n",
      "Fetching head-to-head score between Vassily Ivanchuk and Vassily Ivanchuk\n",
      "Fetching head-to-head score between Vassily Ivanchuk and Levon Aronian\n",
      "Fetching head-to-head score between Vassily Ivanchuk and Wesley So\n",
      "Fetching head-to-head score between Vassily Ivanchuk and Vladimir Fedoseev\n",
      "Fetching head-to-head score between Vassily Ivanchuk and Richard Rapport\n",
      "Fetching head-to-head score between Vassily Ivanchuk and Ding Liren\n",
      "Fetching head-to-head score between Levon Aronian and Peter Svidler\n",
      "Fetching head-to-head score between Levon Aronian and Maxime Vachier-Lagrave\n",
      "Fetching head-to-head score between Levon Aronian and Vassily Ivanchuk\n",
      "Fetching head-to-head score between Levon Aronian and Levon Aronian\n",
      "Fetching head-to-head score between Levon Aronian and Wesley So\n",
      "Fetching head-to-head score between Levon Aronian and Vladimir Fedoseev\n",
      "Fetching head-to-head score between Levon Aronian and Richard Rapport\n",
      "Fetching head-to-head score between Levon Aronian and Ding Liren\n",
      "Fetching head-to-head score between Wesley So and Peter Svidler\n",
      "Fetching head-to-head score between Wesley So and Maxime Vachier-Lagrave\n",
      "Fetching head-to-head score between Wesley So and Vassily Ivanchuk\n",
      "Fetching head-to-head score between Wesley So and Levon Aronian\n",
      "Fetching head-to-head score between Wesley So and Wesley So\n",
      "Fetching head-to-head score between Wesley So and Vladimir Fedoseev\n",
      "Fetching head-to-head score between Wesley So and Richard Rapport\n",
      "Fetching head-to-head score between Wesley So and Ding Liren\n",
      "Fetching head-to-head score between Vladimir Fedoseev and Peter Svidler\n",
      "Fetching head-to-head score between Vladimir Fedoseev and Maxime Vachier-Lagrave\n",
      "Fetching head-to-head score between Vladimir Fedoseev and Vassily Ivanchuk\n",
      "Fetching head-to-head score between Vladimir Fedoseev and Levon Aronian\n",
      "Fetching head-to-head score between Vladimir Fedoseev and Wesley So\n",
      "Fetching head-to-head score between Vladimir Fedoseev and Vladimir Fedoseev\n",
      "Fetching head-to-head score between Vladimir Fedoseev and Richard Rapport\n",
      "Fetching head-to-head score between Vladimir Fedoseev and Ding Liren\n",
      "Fetching head-to-head score between Richard Rapport and Peter Svidler\n",
      "Fetching head-to-head score between Richard Rapport and Maxime Vachier-Lagrave\n",
      "Fetching head-to-head score between Richard Rapport and Vassily Ivanchuk\n",
      "Fetching head-to-head score between Richard Rapport and Levon Aronian\n",
      "Fetching head-to-head score between Richard Rapport and Wesley So\n",
      "Fetching head-to-head score between Richard Rapport and Vladimir Fedoseev\n",
      "Fetching head-to-head score between Richard Rapport and Richard Rapport\n",
      "Fetching head-to-head score between Richard Rapport and Ding Liren\n",
      "Fetching head-to-head score between Ding Liren and Peter Svidler\n",
      "Fetching head-to-head score between Ding Liren and Maxime Vachier-Lagrave\n",
      "Fetching head-to-head score between Ding Liren and Vassily Ivanchuk\n",
      "Fetching head-to-head score between Ding Liren and Levon Aronian\n",
      "Fetching head-to-head score between Ding Liren and Wesley So\n",
      "Fetching head-to-head score between Ding Liren and Vladimir Fedoseev\n",
      "Fetching head-to-head score between Ding Liren and Richard Rapport\n",
      "Fetching head-to-head score between Ding Liren and Ding Liren\n"
     ]
    }
   ],
   "source": [
    "scrape_scores(players)"
   ]
  },
  {
   "cell_type": "markdown",
   "metadata": {},
   "source": [
    "The scrape_scores() function takes a while to run, because it has to send a request to chessgames.com's slow search. The time complexity is O(n^2), which means it will become significantly faster as the World Cup progresses."
   ]
  },
  {
   "cell_type": "markdown",
   "metadata": {},
   "source": [
    "## Simulations"
   ]
  },
  {
   "cell_type": "markdown",
   "metadata": {},
   "source": [
    "We simulate one World Cup and print out the results by setting the verbosity flag to 1."
   ]
  },
  {
   "cell_type": "code",
   "execution_count": 17,
   "metadata": {
    "collapsed": false,
    "scrolled": true
   },
   "outputs": [
    {
     "name": "stdout",
     "output_type": "stream",
     "text": [
      "----------\n",
      "Round 4\n",
      "----------\n",
      "Match Peter Svidler (2756) vs. Maxime Vachier-Lagrave (2804)\n",
      "Game 1: Classical\n",
      "Maxime Vachier-Lagrave won\n",
      "Game 2: Classical\n",
      "Peter Svidler won\n",
      "Game 3: Rapid\n",
      "Draw\n",
      "Game 4: Rapid\n",
      "Maxime Vachier-Lagrave won\n",
      "Maxime Vachier-Lagrave (2804) won the match\n",
      "Match Vassily Ivanchuk (2727) vs. Levon Aronian (2802)\n",
      "Game 1: Classical\n",
      "Draw\n",
      "Game 2: Classical\n",
      "Draw\n",
      "Game 3: Rapid\n",
      "Levon Aronian won\n",
      "Game 4: Rapid\n",
      "Vassily Ivanchuk won\n",
      "Game 5: Rapid\n",
      "Levon Aronian won\n",
      "Game 6: Rapid\n",
      "Draw\n",
      "Levon Aronian (2802) won the match\n",
      "Match Wesley So (2792) vs. Vladimir Fedoseev (2731)\n",
      "Game 1: Classical\n",
      "Wesley So won\n",
      "Game 2: Classical\n",
      "Vladimir Fedoseev won\n",
      "Game 3: Rapid\n",
      "Wesley So won\n",
      "Game 4: Rapid\n",
      "Wesley So won\n",
      "Wesley So (2792) won the match\n",
      "Match Richard Rapport (2675) vs. Ding Liren (2771)\n",
      "Game 1: Classical\n",
      "Ding Liren won\n",
      "Game 2: Classical\n",
      "Ding Liren won\n",
      "Ding Liren (2771) won the match\n",
      "----------\n",
      "Round 5\n",
      "----------\n",
      "Match Maxime Vachier-Lagrave (2804) vs. Levon Aronian (2802)\n",
      "Game 1: Classical\n",
      "Draw\n",
      "Game 2: Classical\n",
      "Levon Aronian won\n",
      "Levon Aronian (2802) won the match\n",
      "Match Wesley So (2792) vs. Ding Liren (2771)\n",
      "Game 1: Classical\n",
      "Ding Liren won\n",
      "Game 2: Classical\n",
      "Draw\n",
      "Ding Liren (2771) won the match\n",
      "----------\n",
      "Round 6\n",
      "----------\n",
      "Match Levon Aronian (2802) vs. Ding Liren (2771)\n",
      "Game 1: Classical\n",
      "Draw\n",
      "Game 2: Classical\n",
      "Draw\n",
      "Game 3: Rapid\n",
      "Draw\n",
      "Game 4: Rapid\n",
      "Levon Aronian won\n",
      "Levon Aronian (2802) won the match\n"
     ]
    },
    {
     "data": {
      "text/plain": [
       "Levon Aronian (2802)"
      ]
     },
     "execution_count": 17,
     "metadata": {},
     "output_type": "execute_result"
    }
   ],
   "source": [
    "W = 10\n",
    "verbosity = 1\n",
    "simulate_worldcup(players, 4, W, verbosity)"
   ]
  },
  {
   "cell_type": "markdown",
   "metadata": {},
   "source": [
    "Now we run 10,000 simulations instead (without printing!) and display the results."
   ]
  },
  {
   "cell_type": "code",
   "execution_count": 22,
   "metadata": {
    "collapsed": false,
    "scrolled": false
   },
   "outputs": [
    {
     "name": "stdout",
     "output_type": "stream",
     "text": [
      "Maxime Vachier-Lagrave (2804) 26.5 %\n",
      "Wesley So (2792) 25.82 %\n",
      "Levon Aronian (2802) 15.6 %\n",
      "Ding Liren (2771) 10.34 %\n",
      "Vassily Ivanchuk (2727) 9.57 %\n",
      "Peter Svidler (2756) 5.9 %\n",
      "Vladimir Fedoseev (2731) 4.42 %\n",
      "Richard Rapport (2675) 1.85 %\n"
     ]
    }
   ],
   "source": [
    "N = 10000\n",
    "W = 10\n",
    "verbosity = 0\n",
    "simulated_players = worldcup_simulations(players, 3, N, W, verbosity)\n",
    "for player in simulated_players:\n",
    "    print(player, round(player.win_percentage*100, 3), \"%\")"
   ]
  },
  {
   "cell_type": "markdown",
   "metadata": {},
   "source": [
    "## Plotting"
   ]
  },
  {
   "cell_type": "code",
   "execution_count": 23,
   "metadata": {
    "collapsed": true
   },
   "outputs": [],
   "source": [
    "import matplotlib\n",
    "import matplotlib.pyplot as plt\n",
    "import seaborn as sns\n",
    "%matplotlib inline"
   ]
  },
  {
   "cell_type": "code",
   "execution_count": 24,
   "metadata": {
    "collapsed": true,
    "scrolled": false
   },
   "outputs": [],
   "source": [
    "def plot_winner_predictions(players):\n",
    "    names = [player.name.split(\" \")[-1] for player in players]\n",
    "    win_percentages = [player.win_percentage for player in players]\n",
    "    player_df = pd.DataFrame({\"Name\": names, \"Win percentage\": win_percentages})\n",
    "\n",
    "    matplotlib.rcParams['figure.figsize'] = (16, 10)\n",
    "    matplotlib.rcParams['font.size'] = 40\n",
    "    sns.barplot(x=\"Name\", y=\"Win percentage\", data=player_df[player_df[\"Win percentage\"]>0.01]).set_title(\"World Cup 2017 Winner Predictions\")"
   ]
  },
  {
   "cell_type": "code",
   "execution_count": 25,
   "metadata": {
    "collapsed": false
   },
   "outputs": [
    {
     "data": {
      "image/png": "[encoded data removed]",
      "text/plain": [
       "<matplotlib.figure.Figure at 0x1b6e9165f60>"
      ]
     },
     "metadata": {},
     "output_type": "display_data"
    }
   ],
   "source": [
    "plot_winner_predictions(simulated_players)"
   ]
  },
  {
   "cell_type": "markdown",
   "metadata": {},
   "source": [
    "This sets the current round scores of the players:"
   ]
  },
  {
   "cell_type": "code",
   "execution_count": 35,
   "metadata": {
    "collapsed": true
   },
   "outputs": [],
   "source": [
    "playerdict[\"Levon Aronian\"].current_score = 1\n",
    "playerdict[\"Vladimir Fedoseev\"].current_score = 0.5\n",
    "playerdict[\"Vassily Ivanchuk\"].current_score = 0\n",
    "playerdict[\"Richard Rapport\"].current_score = 0.5\n",
    "playerdict[\"Wesley So\"].current_score = 0.5\n",
    "playerdict[\"Peter Svidler\"].current_score = 0.5\n",
    "playerdict[\"Maxime Vachier-Lagrave\"].current_score = 0.5\n",
    "playerdict[\"Ding Liren\"].current_score = 0.5"
   ]
  },
  {
   "cell_type": "code",
   "execution_count": 33,
   "metadata": {
    "collapsed": false
   },
   "outputs": [
    {
     "name": "stdout",
     "output_type": "stream",
     "text": [
      "Maxime Vachier-Lagrave (2804) 28.55 %\n",
      "Wesley So (2792) 24.65 %\n",
      "Levon Aronian (2802) 23.58 %\n",
      "Ding Liren (2771) 10.37 %\n",
      "Peter Svidler (2756) 5.34 %\n",
      "Vladimir Fedoseev (2731) 4.23 %\n",
      "Richard Rapport (2675) 1.88 %\n",
      "Vassily Ivanchuk (2727) 1.4 %\n"
     ]
    }
   ],
   "source": [
    "N = 10000\n",
    "W = 10\n",
    "verbosity = 0\n",
    "simulated_players = worldcup_simulations(players, 5, N, W, verbosity)\n",
    "for player in simulated_players:\n",
    "    print(player, round(player.win_percentage*100, 3), \"%\")"
   ]
  },
  {
   "cell_type": "code",
   "execution_count": 34,
   "metadata": {
    "collapsed": false
   },
   "outputs": [
    {
     "data": {
      "image/png": "[encoded data removed]",
      "text/plain": [
       "<matplotlib.figure.Figure at 0x1b6e928bc18>"
      ]
     },
     "metadata": {},
     "output_type": "display_data"
    }
   ],
   "source": [
    "plot_winner_predictions(simulated_players)"
   ]
  },
  {
   "cell_type": "code",
   "execution_count": 36,
   "metadata": {
    "collapsed": false
   },
   "outputs": [
    {
     "name": "stdout",
     "output_type": "stream",
     "text": [
      "Maxime Vachier-Lagrave (2804) 0.7314\n",
      "Peter Svidler (2756) 0.2686\n"
     ]
    }
   ],
   "source": [
    "worldcup_match_simulations(playerdict[\"Maxime Vachier-Lagrave\"], playerdict[\"Peter Svidler\"], W, 10000, 0)"
   ]
  },
  {
   "cell_type": "code",
   "execution_count": 37,
   "metadata": {
    "collapsed": false
   },
   "outputs": [
    {
     "name": "stdout",
     "output_type": "stream",
     "text": [
      "Vassily Ivanchuk (2727) 0.0603\n",
      "Levon Aronian (2802) 0.9397\n"
     ]
    }
   ],
   "source": [
    "worldcup_match_simulations(playerdict[\"Vassily Ivanchuk\"], playerdict[\"Levon Aronian\"], W, 10000, 0)"
   ]
  },
  {
   "cell_type": "code",
   "execution_count": 38,
   "metadata": {
    "collapsed": false
   },
   "outputs": [
    {
     "name": "stdout",
     "output_type": "stream",
     "text": [
      "Wesley So (2792) 0.7171\n",
      "Vladimir Fedoseev (2731) 0.2829\n"
     ]
    }
   ],
   "source": [
    "worldcup_match_simulations(playerdict[\"Wesley So\"], playerdict[\"Vladimir Fedoseev\"], W, 10000, 0)"
   ]
  },
  {
   "cell_type": "code",
   "execution_count": 39,
   "metadata": {
    "collapsed": false
   },
   "outputs": [
    {
     "name": "stdout",
     "output_type": "stream",
     "text": [
      "Richard Rapport (2675) 0.3971\n",
      "Ding Liren (2771) 0.6029\n"
     ]
    }
   ],
   "source": [
    "worldcup_match_simulations(playerdict[\"Richard Rapport\"], playerdict[\"Ding Liren\"], W, 10000, 0)"
   ]
  },
  {
   "cell_type": "code",
   "execution_count": 21,
   "metadata": {
    "collapsed": true
   },
   "outputs": [],
   "source": [
    "playerdict[\"Wesley So\"].scores[\"Classical\"][\"Baadur Jobava\"] = [2,0,2]\n",
    "playerdict[\"Wesley So\"].scores[\"RapidBlitz\"][\"Baadur Jobava\"] = [5,0,2]\n",
    "playerdict[\"Wesley So\"].scores[\"Classical\"][\"Maxim Rodshtein\"] = [1,0,2]\n",
    "playerdict[\"Wesley So\"].scores[\"RapidBlitz\"][\"Maxim Rodshtein\"] = [0,0,0]\n",
    "playerdict[\"Wesley So\"].scores[\"Classical\"][\"Richard Rapport\"] = [2,0,0]\n",
    "playerdict[\"Wesley So\"].scores[\"RapidBlitz\"][\"Richard Rapport\"] = [0,0,0]\n",
    "playerdict[\"Wesley So\"].scores[\"Classical\"][\"Ding Liren\"] = [1,2,11]\n",
    "playerdict[\"Wesley So\"].scores[\"RapidBlitz\"][\"Richard Rapport\"] = [2,2,12]\n",
    "playerdict[\"Wesley So\"].scores[\"Classical\"][\"Peter Svidler\"] = [0,0,4]\n",
    "playerdict[\"Wesley So\"].scores[\"RapidBlitz\"][\"Peter Svidler\"] = [0,0,0]\n",
    "playerdict[\"Wesley So\"].scores[\"Classical\"][\"Bu Xiangzhi\"] = [0,0,1]\n",
    "playerdict[\"Wesley So\"].scores[\"RapidBlitz\"][\"Bu Xiangzhi\"] = [0,0,0]\n",
    "playerdict[\"Wesley So\"].scores[\"Classical\"][\"Maxime Vachier-Lagrave\"] = [1,4,9]\n",
    "playerdict[\"Wesley So\"].scores[\"RapidBlitz\"][\"Maxime Vachier-Lagrave\"] = [2,10,15]\n",
    "playerdict[\"Wesley So\"].scores[\"Classical\"][\"Alexander Grischuk\"] = [1,0,0]\n",
    "playerdict[\"Wesley So\"].scores[\"RapidBlitz\"][\"Alexander Grischuk\"] = [2,0,2]\n",
    "playerdict[\"Wesley So\"].scores[\"Classical\"][\"Vassily Ivanchuk\"] = [2,0,4]\n",
    "playerdict[\"Wesley So\"].scores[\"RapidBlitz\"][\"Vassily Ivanchuk\"] = [2,0,7]\n",
    "playerdict[\"Wesley So\"].scores[\"Classical\"][\"Levon Aronian\"] = [1,3,5]\n",
    "playerdict[\"Wesley So\"].scores[\"RapidBlitz\"][\"Levon Aronian\"] = [3,5,11]"
   ]
  },
  {
   "cell_type": "code",
   "execution_count": null,
   "metadata": {
    "collapsed": true
   },
   "outputs": [],
   "source": []
  }
 ],
 "metadata": {
  "anaconda-cloud": {},
  "kernelspec": {
   "display_name": "Python [default]",
   "language": "python",
   "name": "python3"
  },
  "language_info": {
   "codemirror_mode": {
    "name": "ipython",
    "version": 3
   },
   "file_extension": ".py",
   "mimetype": "text/x-python",
   "name": "python",
   "nbconvert_exporter": "python",
   "pygments_lexer": "ipython3",
   "version": "3.5.2"
  }
 },
 "nbformat": 4,
 "nbformat_minor": 1
}
