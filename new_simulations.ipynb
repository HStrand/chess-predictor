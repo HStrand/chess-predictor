{
 "cells": [
  {
   "cell_type": "code",
   "execution_count": 1,
   "metadata": {
    "collapsed": true
   },
   "outputs": [],
   "source": [
    "import pandas as pd\n",
    "from player import Player\n",
    "from ratingscraper import *\n",
    "from scorescraper import *\n",
    "from estimation import *\n",
    "from simulations import *\n",
    "from tournament import Tournament, Cup, WorldCup\n",
    "%matplotlib inline"
   ]
  },
  {
   "cell_type": "markdown",
   "metadata": {},
   "source": [
    "## Generate players"
   ]
  },
  {
   "cell_type": "code",
   "execution_count": 2,
   "metadata": {
    "collapsed": true
   },
   "outputs": [],
   "source": [
    "df = pd.read_csv('wcplayers.csv')"
   ]
  },
  {
   "cell_type": "code",
   "execution_count": 3,
   "metadata": {
    "scrolled": false
   },
   "outputs": [
    {
     "data": {
      "text/html": [
       "<div>\n",
       "<style>\n",
       "    .dataframe thead tr:only-child th {\n",
       "        text-align: right;\n",
       "    }\n",
       "\n",
       "    .dataframe thead th {\n",
       "        text-align: left;\n",
       "    }\n",
       "\n",
       "    .dataframe tbody tr th {\n",
       "        vertical-align: top;\n",
       "    }\n",
       "</style>\n",
       "<table border=\"1\" class=\"dataframe\">\n",
       "  <thead>\n",
       "    <tr style=\"text-align: right;\">\n",
       "      <th></th>\n",
       "      <th>Player</th>\n",
       "      <th>FideId</th>\n",
       "    </tr>\n",
       "  </thead>\n",
       "  <tbody>\n",
       "    <tr>\n",
       "      <th>0</th>\n",
       "      <td>Maxime Vachier-Lagrave</td>\n",
       "      <td>623539</td>\n",
       "    </tr>\n",
       "    <tr>\n",
       "      <th>1</th>\n",
       "      <td>Levon Aronian</td>\n",
       "      <td>13300474</td>\n",
       "    </tr>\n",
       "    <tr>\n",
       "      <th>2</th>\n",
       "      <td>Wesley So</td>\n",
       "      <td>5202213</td>\n",
       "    </tr>\n",
       "    <tr>\n",
       "      <th>3</th>\n",
       "      <td>Ding Liren</td>\n",
       "      <td>8603677</td>\n",
       "    </tr>\n",
       "  </tbody>\n",
       "</table>\n",
       "</div>"
      ],
      "text/plain": [
       "                   Player    FideId\n",
       "0  Maxime Vachier-Lagrave    623539\n",
       "1           Levon Aronian  13300474\n",
       "2               Wesley So   5202213\n",
       "3              Ding Liren   8603677"
      ]
     },
     "execution_count": 3,
     "metadata": {},
     "output_type": "execute_result"
    }
   ],
   "source": [
    "df"
   ]
  },
  {
   "cell_type": "code",
   "execution_count": 4,
   "metadata": {},
   "outputs": [],
   "source": [
    "players = []\n",
    "for x in df.iterrows():\n",
    "    row = x[1]\n",
    "    players.append(Player(name=row[0], fide_id=row[1]))"
   ]
  },
  {
   "cell_type": "markdown",
   "metadata": {},
   "source": [
    "## Web scraping"
   ]
  },
  {
   "cell_type": "code",
   "execution_count": 5,
   "metadata": {
    "collapsed": true
   },
   "outputs": [],
   "source": [
    "scrape_ratings(players)"
   ]
  },
  {
   "cell_type": "code",
   "execution_count": 6,
   "metadata": {
    "scrolled": true
   },
   "outputs": [
    {
     "data": {
      "text/plain": [
       "[Maxime Vachier-Lagrave (2804),\n",
       " Levon Aronian (2802),\n",
       " Wesley So (2792),\n",
       " Ding Liren (2771)]"
      ]
     },
     "execution_count": 6,
     "metadata": {},
     "output_type": "execute_result"
    }
   ],
   "source": [
    "players"
   ]
  },
  {
   "cell_type": "code",
   "execution_count": 7,
   "metadata": {
    "collapsed": true
   },
   "outputs": [],
   "source": [
    "playerdict = {player.name: player for player in players}"
   ]
  },
  {
   "cell_type": "code",
   "execution_count": 8,
   "metadata": {
    "scrolled": true
   },
   "outputs": [
    {
     "name": "stdout",
     "output_type": "stream",
     "text": [
      "Fetching head-to-head score between Maxime Vachier-Lagrave and Maxime Vachier-Lagrave\n",
      "Fetching head-to-head score between Maxime Vachier-Lagrave and Levon Aronian\n",
      "Fetching head-to-head score between Maxime Vachier-Lagrave and Wesley So\n",
      "Fetching head-to-head score between Maxime Vachier-Lagrave and Ding Liren\n",
      "Fetching head-to-head score between Levon Aronian and Maxime Vachier-Lagrave\n",
      "Fetching head-to-head score between Levon Aronian and Levon Aronian\n",
      "Fetching head-to-head score between Levon Aronian and Wesley So\n",
      "Fetching head-to-head score between Levon Aronian and Ding Liren\n",
      "Fetching head-to-head score between Wesley So and Maxime Vachier-Lagrave\n",
      "Fetching head-to-head score between Wesley So and Levon Aronian\n",
      "Fetching head-to-head score between Wesley So and Wesley So\n",
      "Fetching head-to-head score between Wesley So and Ding Liren\n",
      "Fetching head-to-head score between Ding Liren and Maxime Vachier-Lagrave\n",
      "Fetching head-to-head score between Ding Liren and Levon Aronian\n",
      "Fetching head-to-head score between Ding Liren and Wesley So\n",
      "Fetching head-to-head score between Ding Liren and Ding Liren\n"
     ]
    }
   ],
   "source": [
    "scrape_scores(players)"
   ]
  },
  {
   "cell_type": "markdown",
   "metadata": {},
   "source": [
    "The scrape_scores() function takes a while to run, because it has to send a request to chessgames.com's slow search. The time complexity is O(n^2), which means it will become significantly faster as the World Cup progresses."
   ]
  },
  {
   "cell_type": "markdown",
   "metadata": {},
   "source": [
    "## Simulations"
   ]
  },
  {
   "cell_type": "code",
   "execution_count": 9,
   "metadata": {
    "collapsed": true
   },
   "outputs": [],
   "source": [
    "playerdict[\"Levon Aronian\"].current_score = 1\n",
    "playerdict[\"Wesley So\"].current_score = 1\n",
    "playerdict[\"Maxime Vachier-Lagrave\"].current_score = 1\n",
    "playerdict[\"Ding Liren\"].current_score = 1"
   ]
  },
  {
   "cell_type": "code",
   "execution_count": 10,
   "metadata": {
    "collapsed": true
   },
   "outputs": [],
   "source": [
    "playerdict[\"Wesley So\"].scores[\"Classical\"][\"Ding Liren\"] = [1,2,11]\n",
    "playerdict[\"Ding Liren\"].scores[\"Classical\"][\"Wesley So\"] = [2,1,11]\n",
    "playerdict[\"Wesley So\"].scores[\"Classical\"][\"Peter Svidler\"] = [0,0,4]\n",
    "playerdict[\"Wesley So\"].scores[\"RapidBlitz\"][\"Peter Svidler\"] = [0,0,0]\n",
    "playerdict[\"Wesley So\"].scores[\"Classical\"][\"Maxime Vachier-Lagrave\"] = [1,4,9]\n",
    "playerdict[\"Wesley So\"].scores[\"RapidBlitz\"][\"Maxime Vachier-Lagrave\"] = [2,10,15]\n",
    "playerdict[\"Maxime Vachier-Lagrave\"].scores[\"Classical\"][\"Wesley So\"] = [4,1,9]\n",
    "playerdict[\"Maxime Vachier-Lagrave\"].scores[\"RapidBlitz\"][\"Wesley So\"] = [10,2,15]\n",
    "playerdict[\"Wesley So\"].scores[\"Classical\"][\"Levon Aronian\"] = [1,3,5]\n",
    "playerdict[\"Wesley So\"].scores[\"RapidBlitz\"][\"Levon Aronian\"] = [3,5,11]\n",
    "playerdict[\"Levon Aronian\"].scores[\"Classical\"][\"Wesley So\"] = [3,1,5]\n",
    "playerdict[\"Levon Aronian\"].scores[\"RapidBlitz\"][\"Wesley So\"] = [5,3,11]"
   ]
  },
  {
   "cell_type": "code",
   "execution_count": 11,
   "metadata": {},
   "outputs": [],
   "source": [
    "wc = WorldCup(players, 10, 1)"
   ]
  },
  {
   "cell_type": "code",
   "execution_count": 12,
   "metadata": {},
   "outputs": [],
   "source": [
    "wc.cups(10000)"
   ]
  },
  {
   "cell_type": "code",
   "execution_count": 13,
   "metadata": {},
   "outputs": [
    {
     "name": "stdout",
     "output_type": "stream",
     "text": [
      "Maxime Vachier-Lagrave (2804) 48.74 %\n",
      "Wesley So (2792) 22.49 %\n",
      "Levon Aronian (2802) 20.3 %\n",
      "Ding Liren (2771) 8.47 %\n"
     ]
    }
   ],
   "source": [
    "wc.print_results()"
   ]
  },
  {
   "cell_type": "code",
   "execution_count": 14,
   "metadata": {
    "scrolled": false
   },
   "outputs": [
    {
     "data": {
      "image/png": "[encoded data removed]",
      "text/plain": [
       "<matplotlib.figure.Figure at 0x20cba87dc18>"
      ]
     },
     "metadata": {},
     "output_type": "display_data"
    }
   ],
   "source": [
    "wc.plot_results(\"World Cup 2017 Winner\")"
   ]
  },
  {
   "cell_type": "code",
   "execution_count": 15,
   "metadata": {},
   "outputs": [
    {
     "name": "stdout",
     "output_type": "stream",
     "text": [
      "Levon Aronian (2802) 0.3251\n",
      "Maxime Vachier-Lagrave (2804) 0.6749\n"
     ]
    }
   ],
   "source": [
    "wc.matches(\"Levon Aronian\", \"Maxime Vachier-Lagrave\", 10000)"
   ]
  },
  {
   "cell_type": "code",
   "execution_count": 16,
   "metadata": {},
   "outputs": [
    {
     "name": "stdout",
     "output_type": "stream",
     "text": [
      "Ding Liren (2771) 0.2502\n",
      "Wesley So (2792) 0.7498\n"
     ]
    }
   ],
   "source": [
    "wc.matches(\"Ding Liren\", \"Wesley So\", 10000)"
   ]
  },
  {
   "cell_type": "code",
   "execution_count": 415,
   "metadata": {},
   "outputs": [],
   "source": [
    "import imp\n",
    "imp.reload(tournament)\n",
    "from tournament import WorldCup, Cup, Tournament"
   ]
  },
  {
   "cell_type": "code",
   "execution_count": null,
   "metadata": {
    "collapsed": true
   },
   "outputs": [],
   "source": []
  }
 ],
 "metadata": {
  "anaconda-cloud": {},
  "kernelspec": {
   "display_name": "Python 3",
   "language": "python",
   "name": "python3"
  },
  "language_info": {
   "codemirror_mode": {
    "name": "ipython",
    "version": 3
   },
   "file_extension": ".py",
   "mimetype": "text/x-python",
   "name": "python",
   "nbconvert_exporter": "python",
   "pygments_lexer": "ipython3",
   "version": "3.6.1"
  }
 },
 "nbformat": 4,
 "nbformat_minor": 2
}
