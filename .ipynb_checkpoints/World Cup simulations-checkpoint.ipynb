{
 "cells": [
  {
   "cell_type": "code",
   "execution_count": 1,
   "metadata": {
    "collapsed": true
   },
   "outputs": [],
   "source": [
    "import pandas as pd\n",
    "from player import Player\n",
    "from ratingscraper import *\n",
    "from scorescraper import *\n",
    "from estimation import *\n",
    "from simulations import *"
   ]
  },
  {
   "cell_type": "code",
   "execution_count": 3,
   "metadata": {
    "collapsed": true
   },
   "outputs": [],
   "source": [
    "df = pd.read_csv('wcplayers.csv')"
   ]
  },
  {
   "cell_type": "code",
   "execution_count": 4,
   "metadata": {
    "collapsed": false
   },
   "outputs": [],
   "source": [
    "players = []\n",
    "for x in df.iterrows():\n",
    "    players.append(Player(x[1][0], x[1][1]))"
   ]
  },
  {
   "cell_type": "code",
   "execution_count": 5,
   "metadata": {
    "collapsed": true
   },
   "outputs": [],
   "source": [
    "scrape_ratings(players)"
   ]
  },
  {
   "cell_type": "code",
   "execution_count": 6,
   "metadata": {
    "collapsed": false
   },
   "outputs": [
    {
     "data": {
      "text/plain": [
       "[Bu Xiangzhi (2714),\n",
       " Peter Svidler (2756),\n",
       " Maxime Vachier-Lagrave (2804),\n",
       " Alexander Grischuk (2788),\n",
       " Vassily Ivanchuk (2727),\n",
       " Anish Giri (2777),\n",
       " Levon Aronian (2802),\n",
       " Daniil Dubov (2666),\n",
       " Wesley So (2792),\n",
       " Ian Nepomniachtchi (2741),\n",
       " Vladimir Fedoseev (2731),\n",
       " Maxim Rodshtein (2695),\n",
       " Fabiano Caruana (2799),\n",
       " Li Chao (2745),\n",
       " Wang Hao (2701),\n",
       " Ding Liren (2771)]"
      ]
     },
     "execution_count": 6,
     "metadata": {},
     "output_type": "execute_result"
    }
   ],
   "source": [
    "players"
   ]
  },
  {
   "cell_type": "code",
   "execution_count": 7,
   "metadata": {
    "collapsed": false,
    "scrolled": true
   },
   "outputs": [
    {
     "name": "stdout",
     "output_type": "stream",
     "text": [
      "Fetching head-to-head score between Bu Xiangzhi and Bu Xiangzhi\n",
      "Fetching head-to-head score between Bu Xiangzhi and Peter Svidler\n",
      "Fetching head-to-head score between Bu Xiangzhi and Maxime Vachier-Lagrave\n",
      "Fetching head-to-head score between Bu Xiangzhi and Alexander Grischuk\n",
      "Fetching head-to-head score between Bu Xiangzhi and Vassily Ivanchuk\n",
      "Fetching head-to-head score between Bu Xiangzhi and Anish Giri\n",
      "Fetching head-to-head score between Bu Xiangzhi and Levon Aronian\n",
      "Fetching head-to-head score between Bu Xiangzhi and Daniil Dubov\n",
      "Fetching head-to-head score between Bu Xiangzhi and Wesley So\n",
      "Fetching head-to-head score between Bu Xiangzhi and Ian Nepomniachtchi\n",
      "Fetching head-to-head score between Bu Xiangzhi and Vladimir Fedoseev\n",
      "Fetching head-to-head score between Bu Xiangzhi and Maxim Rodshtein\n",
      "Fetching head-to-head score between Bu Xiangzhi and Fabiano Caruana\n",
      "Fetching head-to-head score between Bu Xiangzhi and Li Chao\n",
      "Fetching head-to-head score between Bu Xiangzhi and Wang Hao\n",
      "Fetching head-to-head score between Bu Xiangzhi and Ding Liren\n",
      "Fetching head-to-head score between Peter Svidler and Bu Xiangzhi\n",
      "Fetching head-to-head score between Peter Svidler and Peter Svidler\n",
      "Fetching head-to-head score between Peter Svidler and Maxime Vachier-Lagrave\n",
      "Fetching head-to-head score between Peter Svidler and Alexander Grischuk\n",
      "Fetching head-to-head score between Peter Svidler and Vassily Ivanchuk\n",
      "Fetching head-to-head score between Peter Svidler and Anish Giri\n",
      "Fetching head-to-head score between Peter Svidler and Levon Aronian\n",
      "Fetching head-to-head score between Peter Svidler and Daniil Dubov\n",
      "Fetching head-to-head score between Peter Svidler and Wesley So\n",
      "Fetching head-to-head score between Peter Svidler and Ian Nepomniachtchi\n",
      "Fetching head-to-head score between Peter Svidler and Vladimir Fedoseev\n",
      "Fetching head-to-head score between Peter Svidler and Maxim Rodshtein\n",
      "Fetching head-to-head score between Peter Svidler and Fabiano Caruana\n",
      "Fetching head-to-head score between Peter Svidler and Li Chao\n",
      "Fetching head-to-head score between Peter Svidler and Wang Hao\n",
      "Fetching head-to-head score between Peter Svidler and Ding Liren\n",
      "Fetching head-to-head score between Maxime Vachier-Lagrave and Bu Xiangzhi\n",
      "Fetching head-to-head score between Maxime Vachier-Lagrave and Peter Svidler\n",
      "Fetching head-to-head score between Maxime Vachier-Lagrave and Maxime Vachier-Lagrave\n",
      "Fetching head-to-head score between Maxime Vachier-Lagrave and Alexander Grischuk\n",
      "Fetching head-to-head score between Maxime Vachier-Lagrave and Vassily Ivanchuk\n",
      "Fetching head-to-head score between Maxime Vachier-Lagrave and Anish Giri\n",
      "Fetching head-to-head score between Maxime Vachier-Lagrave and Levon Aronian\n",
      "Fetching head-to-head score between Maxime Vachier-Lagrave and Daniil Dubov\n",
      "Fetching head-to-head score between Maxime Vachier-Lagrave and Wesley So\n",
      "Fetching head-to-head score between Maxime Vachier-Lagrave and Ian Nepomniachtchi\n",
      "Fetching head-to-head score between Maxime Vachier-Lagrave and Vladimir Fedoseev\n",
      "Fetching head-to-head score between Maxime Vachier-Lagrave and Maxim Rodshtein\n",
      "Fetching head-to-head score between Maxime Vachier-Lagrave and Fabiano Caruana\n",
      "Fetching head-to-head score between Maxime Vachier-Lagrave and Li Chao\n",
      "Fetching head-to-head score between Maxime Vachier-Lagrave and Wang Hao\n",
      "Fetching head-to-head score between Maxime Vachier-Lagrave and Ding Liren\n",
      "Fetching head-to-head score between Alexander Grischuk and Bu Xiangzhi\n",
      "Fetching head-to-head score between Alexander Grischuk and Peter Svidler\n",
      "Fetching head-to-head score between Alexander Grischuk and Maxime Vachier-Lagrave\n",
      "Fetching head-to-head score between Alexander Grischuk and Alexander Grischuk\n",
      "Fetching head-to-head score between Alexander Grischuk and Vassily Ivanchuk\n",
      "Fetching head-to-head score between Alexander Grischuk and Anish Giri\n",
      "Fetching head-to-head score between Alexander Grischuk and Levon Aronian\n",
      "Fetching head-to-head score between Alexander Grischuk and Daniil Dubov\n",
      "Fetching head-to-head score between Alexander Grischuk and Wesley So\n",
      "Fetching head-to-head score between Alexander Grischuk and Ian Nepomniachtchi\n",
      "Fetching head-to-head score between Alexander Grischuk and Vladimir Fedoseev\n",
      "Fetching head-to-head score between Alexander Grischuk and Maxim Rodshtein\n",
      "Fetching head-to-head score between Alexander Grischuk and Fabiano Caruana\n",
      "Fetching head-to-head score between Alexander Grischuk and Li Chao\n",
      "Fetching head-to-head score between Alexander Grischuk and Wang Hao\n",
      "Fetching head-to-head score between Alexander Grischuk and Ding Liren\n",
      "Fetching head-to-head score between Vassily Ivanchuk and Bu Xiangzhi\n",
      "Fetching head-to-head score between Vassily Ivanchuk and Peter Svidler\n",
      "Fetching head-to-head score between Vassily Ivanchuk and Maxime Vachier-Lagrave\n",
      "Fetching head-to-head score between Vassily Ivanchuk and Alexander Grischuk\n",
      "Fetching head-to-head score between Vassily Ivanchuk and Vassily Ivanchuk\n",
      "Fetching head-to-head score between Vassily Ivanchuk and Anish Giri\n",
      "Fetching head-to-head score between Vassily Ivanchuk and Levon Aronian\n",
      "Fetching head-to-head score between Vassily Ivanchuk and Daniil Dubov\n",
      "Fetching head-to-head score between Vassily Ivanchuk and Wesley So\n",
      "Fetching head-to-head score between Vassily Ivanchuk and Ian Nepomniachtchi\n",
      "Fetching head-to-head score between Vassily Ivanchuk and Vladimir Fedoseev\n",
      "Fetching head-to-head score between Vassily Ivanchuk and Maxim Rodshtein\n",
      "Fetching head-to-head score between Vassily Ivanchuk and Fabiano Caruana\n",
      "Fetching head-to-head score between Vassily Ivanchuk and Li Chao\n",
      "Fetching head-to-head score between Vassily Ivanchuk and Wang Hao\n",
      "Fetching head-to-head score between Vassily Ivanchuk and Ding Liren\n",
      "Fetching head-to-head score between Anish Giri and Bu Xiangzhi\n",
      "Fetching head-to-head score between Anish Giri and Peter Svidler\n",
      "Fetching head-to-head score between Anish Giri and Maxime Vachier-Lagrave\n",
      "Fetching head-to-head score between Anish Giri and Alexander Grischuk\n",
      "Fetching head-to-head score between Anish Giri and Vassily Ivanchuk\n",
      "Fetching head-to-head score between Anish Giri and Anish Giri\n",
      "Fetching head-to-head score between Anish Giri and Levon Aronian\n",
      "Fetching head-to-head score between Anish Giri and Daniil Dubov\n",
      "Fetching head-to-head score between Anish Giri and Wesley So\n",
      "Fetching head-to-head score between Anish Giri and Ian Nepomniachtchi\n",
      "Fetching head-to-head score between Anish Giri and Vladimir Fedoseev\n",
      "Fetching head-to-head score between Anish Giri and Maxim Rodshtein\n",
      "Fetching head-to-head score between Anish Giri and Fabiano Caruana\n",
      "Fetching head-to-head score between Anish Giri and Li Chao\n",
      "Fetching head-to-head score between Anish Giri and Wang Hao\n",
      "Fetching head-to-head score between Anish Giri and Ding Liren\n",
      "Fetching head-to-head score between Levon Aronian and Bu Xiangzhi\n",
      "Fetching head-to-head score between Levon Aronian and Peter Svidler\n",
      "Fetching head-to-head score between Levon Aronian and Maxime Vachier-Lagrave\n",
      "Fetching head-to-head score between Levon Aronian and Alexander Grischuk\n",
      "Fetching head-to-head score between Levon Aronian and Vassily Ivanchuk\n",
      "Fetching head-to-head score between Levon Aronian and Anish Giri\n",
      "Fetching head-to-head score between Levon Aronian and Levon Aronian\n",
      "Fetching head-to-head score between Levon Aronian and Daniil Dubov\n",
      "Fetching head-to-head score between Levon Aronian and Wesley So\n",
      "Fetching head-to-head score between Levon Aronian and Ian Nepomniachtchi\n",
      "Fetching head-to-head score between Levon Aronian and Vladimir Fedoseev\n",
      "Fetching head-to-head score between Levon Aronian and Maxim Rodshtein\n",
      "Fetching head-to-head score between Levon Aronian and Fabiano Caruana\n",
      "Fetching head-to-head score between Levon Aronian and Li Chao\n",
      "Fetching head-to-head score between Levon Aronian and Wang Hao\n",
      "Fetching head-to-head score between Levon Aronian and Ding Liren\n",
      "Fetching head-to-head score between Daniil Dubov and Bu Xiangzhi\n",
      "Fetching head-to-head score between Daniil Dubov and Peter Svidler\n",
      "Fetching head-to-head score between Daniil Dubov and Maxime Vachier-Lagrave\n",
      "Fetching head-to-head score between Daniil Dubov and Alexander Grischuk\n",
      "Fetching head-to-head score between Daniil Dubov and Vassily Ivanchuk\n",
      "Fetching head-to-head score between Daniil Dubov and Anish Giri\n",
      "Fetching head-to-head score between Daniil Dubov and Levon Aronian\n",
      "Fetching head-to-head score between Daniil Dubov and Daniil Dubov\n",
      "Fetching head-to-head score between Daniil Dubov and Wesley So\n",
      "Fetching head-to-head score between Daniil Dubov and Ian Nepomniachtchi\n",
      "Fetching head-to-head score between Daniil Dubov and Vladimir Fedoseev\n",
      "Fetching head-to-head score between Daniil Dubov and Maxim Rodshtein\n",
      "Fetching head-to-head score between Daniil Dubov and Fabiano Caruana\n",
      "Fetching head-to-head score between Daniil Dubov and Li Chao\n",
      "Fetching head-to-head score between Daniil Dubov and Wang Hao\n",
      "Fetching head-to-head score between Daniil Dubov and Ding Liren\n",
      "Fetching head-to-head score between Wesley So and Bu Xiangzhi\n",
      "Fetching head-to-head score between Wesley So and Peter Svidler\n",
      "Fetching head-to-head score between Wesley So and Maxime Vachier-Lagrave\n",
      "Fetching head-to-head score between Wesley So and Alexander Grischuk\n",
      "Fetching head-to-head score between Wesley So and Vassily Ivanchuk\n",
      "Fetching head-to-head score between Wesley So and Anish Giri\n",
      "Fetching head-to-head score between Wesley So and Levon Aronian\n",
      "Fetching head-to-head score between Wesley So and Daniil Dubov\n",
      "Fetching head-to-head score between Wesley So and Wesley So\n",
      "Fetching head-to-head score between Wesley So and Ian Nepomniachtchi\n",
      "Fetching head-to-head score between Wesley So and Vladimir Fedoseev\n",
      "Fetching head-to-head score between Wesley So and Maxim Rodshtein\n",
      "Fetching head-to-head score between Wesley So and Fabiano Caruana\n",
      "Fetching head-to-head score between Wesley So and Li Chao\n",
      "Fetching head-to-head score between Wesley So and Wang Hao\n",
      "Fetching head-to-head score between Wesley So and Ding Liren\n",
      "Fetching head-to-head score between Ian Nepomniachtchi and Bu Xiangzhi\n",
      "Fetching head-to-head score between Ian Nepomniachtchi and Peter Svidler\n",
      "Fetching head-to-head score between Ian Nepomniachtchi and Maxime Vachier-Lagrave\n",
      "Fetching head-to-head score between Ian Nepomniachtchi and Alexander Grischuk\n",
      "Fetching head-to-head score between Ian Nepomniachtchi and Vassily Ivanchuk\n",
      "Fetching head-to-head score between Ian Nepomniachtchi and Anish Giri\n",
      "Fetching head-to-head score between Ian Nepomniachtchi and Levon Aronian\n",
      "Fetching head-to-head score between Ian Nepomniachtchi and Daniil Dubov\n",
      "Fetching head-to-head score between Ian Nepomniachtchi and Wesley So\n",
      "Fetching head-to-head score between Ian Nepomniachtchi and Ian Nepomniachtchi\n",
      "Fetching head-to-head score between Ian Nepomniachtchi and Vladimir Fedoseev\n",
      "Fetching head-to-head score between Ian Nepomniachtchi and Maxim Rodshtein\n",
      "Fetching head-to-head score between Ian Nepomniachtchi and Fabiano Caruana\n",
      "Fetching head-to-head score between Ian Nepomniachtchi and Li Chao\n",
      "Fetching head-to-head score between Ian Nepomniachtchi and Wang Hao\n",
      "Fetching head-to-head score between Ian Nepomniachtchi and Ding Liren\n",
      "Fetching head-to-head score between Vladimir Fedoseev and Bu Xiangzhi\n",
      "Fetching head-to-head score between Vladimir Fedoseev and Peter Svidler\n",
      "Fetching head-to-head score between Vladimir Fedoseev and Maxime Vachier-Lagrave\n",
      "Fetching head-to-head score between Vladimir Fedoseev and Alexander Grischuk\n",
      "Fetching head-to-head score between Vladimir Fedoseev and Vassily Ivanchuk\n",
      "Fetching head-to-head score between Vladimir Fedoseev and Anish Giri\n",
      "Fetching head-to-head score between Vladimir Fedoseev and Levon Aronian\n",
      "Fetching head-to-head score between Vladimir Fedoseev and Daniil Dubov\n",
      "Fetching head-to-head score between Vladimir Fedoseev and Wesley So\n",
      "Fetching head-to-head score between Vladimir Fedoseev and Ian Nepomniachtchi\n",
      "Fetching head-to-head score between Vladimir Fedoseev and Vladimir Fedoseev\n",
      "Fetching head-to-head score between Vladimir Fedoseev and Maxim Rodshtein\n",
      "Fetching head-to-head score between Vladimir Fedoseev and Fabiano Caruana\n",
      "Fetching head-to-head score between Vladimir Fedoseev and Li Chao\n",
      "Fetching head-to-head score between Vladimir Fedoseev and Wang Hao\n",
      "Fetching head-to-head score between Vladimir Fedoseev and Ding Liren\n",
      "Fetching head-to-head score between Maxim Rodshtein and Bu Xiangzhi\n",
      "Fetching head-to-head score between Maxim Rodshtein and Peter Svidler\n",
      "Fetching head-to-head score between Maxim Rodshtein and Maxime Vachier-Lagrave\n",
      "Fetching head-to-head score between Maxim Rodshtein and Alexander Grischuk\n",
      "Fetching head-to-head score between Maxim Rodshtein and Vassily Ivanchuk\n",
      "Fetching head-to-head score between Maxim Rodshtein and Anish Giri\n",
      "Fetching head-to-head score between Maxim Rodshtein and Levon Aronian\n",
      "Fetching head-to-head score between Maxim Rodshtein and Daniil Dubov\n",
      "Fetching head-to-head score between Maxim Rodshtein and Wesley So\n",
      "Fetching head-to-head score between Maxim Rodshtein and Ian Nepomniachtchi\n",
      "Fetching head-to-head score between Maxim Rodshtein and Vladimir Fedoseev\n",
      "Fetching head-to-head score between Maxim Rodshtein and Maxim Rodshtein\n",
      "Fetching head-to-head score between Maxim Rodshtein and Fabiano Caruana\n",
      "Fetching head-to-head score between Maxim Rodshtein and Li Chao\n",
      "Fetching head-to-head score between Maxim Rodshtein and Wang Hao\n",
      "Fetching head-to-head score between Maxim Rodshtein and Ding Liren\n",
      "Fetching head-to-head score between Fabiano Caruana and Bu Xiangzhi\n",
      "Fetching head-to-head score between Fabiano Caruana and Peter Svidler\n",
      "Fetching head-to-head score between Fabiano Caruana and Maxime Vachier-Lagrave\n",
      "Fetching head-to-head score between Fabiano Caruana and Alexander Grischuk\n",
      "Fetching head-to-head score between Fabiano Caruana and Vassily Ivanchuk\n",
      "Fetching head-to-head score between Fabiano Caruana and Anish Giri\n",
      "Fetching head-to-head score between Fabiano Caruana and Levon Aronian\n",
      "Fetching head-to-head score between Fabiano Caruana and Daniil Dubov\n",
      "Fetching head-to-head score between Fabiano Caruana and Wesley So\n",
      "Fetching head-to-head score between Fabiano Caruana and Ian Nepomniachtchi\n",
      "Fetching head-to-head score between Fabiano Caruana and Vladimir Fedoseev\n",
      "Fetching head-to-head score between Fabiano Caruana and Maxim Rodshtein\n",
      "Fetching head-to-head score between Fabiano Caruana and Fabiano Caruana\n",
      "Fetching head-to-head score between Fabiano Caruana and Li Chao\n",
      "Fetching head-to-head score between Fabiano Caruana and Wang Hao\n",
      "Fetching head-to-head score between Fabiano Caruana and Ding Liren\n",
      "Fetching head-to-head score between Li Chao and Bu Xiangzhi\n",
      "Fetching head-to-head score between Li Chao and Peter Svidler\n",
      "Fetching head-to-head score between Li Chao and Maxime Vachier-Lagrave\n",
      "Fetching head-to-head score between Li Chao and Alexander Grischuk\n",
      "Fetching head-to-head score between Li Chao and Vassily Ivanchuk\n",
      "Fetching head-to-head score between Li Chao and Anish Giri\n",
      "Fetching head-to-head score between Li Chao and Levon Aronian\n",
      "Fetching head-to-head score between Li Chao and Daniil Dubov\n",
      "Fetching head-to-head score between Li Chao and Wesley So\n",
      "Fetching head-to-head score between Li Chao and Ian Nepomniachtchi\n",
      "Fetching head-to-head score between Li Chao and Vladimir Fedoseev\n",
      "Fetching head-to-head score between Li Chao and Maxim Rodshtein\n",
      "Fetching head-to-head score between Li Chao and Fabiano Caruana\n",
      "Fetching head-to-head score between Li Chao and Li Chao\n",
      "Fetching head-to-head score between Li Chao and Wang Hao\n",
      "Fetching head-to-head score between Li Chao and Ding Liren\n",
      "Fetching head-to-head score between Wang Hao and Bu Xiangzhi\n",
      "Fetching head-to-head score between Wang Hao and Peter Svidler\n",
      "Fetching head-to-head score between Wang Hao and Maxime Vachier-Lagrave\n",
      "Fetching head-to-head score between Wang Hao and Alexander Grischuk\n",
      "Fetching head-to-head score between Wang Hao and Vassily Ivanchuk\n",
      "Fetching head-to-head score between Wang Hao and Anish Giri\n",
      "Fetching head-to-head score between Wang Hao and Levon Aronian\n",
      "Fetching head-to-head score between Wang Hao and Daniil Dubov\n",
      "Fetching head-to-head score between Wang Hao and Wesley So\n",
      "Fetching head-to-head score between Wang Hao and Ian Nepomniachtchi\n",
      "Fetching head-to-head score between Wang Hao and Vladimir Fedoseev\n",
      "Fetching head-to-head score between Wang Hao and Maxim Rodshtein\n",
      "Fetching head-to-head score between Wang Hao and Fabiano Caruana\n",
      "Fetching head-to-head score between Wang Hao and Li Chao\n",
      "Fetching head-to-head score between Wang Hao and Wang Hao\n",
      "Fetching head-to-head score between Wang Hao and Ding Liren\n",
      "Fetching head-to-head score between Ding Liren and Bu Xiangzhi\n",
      "Fetching head-to-head score between Ding Liren and Peter Svidler\n",
      "Fetching head-to-head score between Ding Liren and Maxime Vachier-Lagrave\n",
      "Fetching head-to-head score between Ding Liren and Alexander Grischuk\n",
      "Fetching head-to-head score between Ding Liren and Vassily Ivanchuk\n",
      "Fetching head-to-head score between Ding Liren and Anish Giri\n",
      "Fetching head-to-head score between Ding Liren and Levon Aronian\n",
      "Fetching head-to-head score between Ding Liren and Daniil Dubov\n",
      "Fetching head-to-head score between Ding Liren and Wesley So\n",
      "Fetching head-to-head score between Ding Liren and Ian Nepomniachtchi\n",
      "Fetching head-to-head score between Ding Liren and Vladimir Fedoseev\n",
      "Fetching head-to-head score between Ding Liren and Maxim Rodshtein\n",
      "Fetching head-to-head score between Ding Liren and Fabiano Caruana\n",
      "Fetching head-to-head score between Ding Liren and Li Chao\n",
      "Fetching head-to-head score between Ding Liren and Wang Hao\n",
      "Fetching head-to-head score between Ding Liren and Ding Liren\n"
     ]
    }
   ],
   "source": [
    "scrape_scores(players)"
   ]
  },
  {
   "cell_type": "code",
   "execution_count": 29,
   "metadata": {
    "collapsed": false
   },
   "outputs": [],
   "source": [
    "playerdict = {player.name: player for player in players}"
   ]
  },
  {
   "cell_type": "code",
   "execution_count": 2,
   "metadata": {
    "collapsed": true
   },
   "outputs": [],
   "source": [
    "W = 10"
   ]
  },
  {
   "cell_type": "code",
   "execution_count": 8,
   "metadata": {
    "collapsed": false
   },
   "outputs": [],
   "source": [
    "simulated_players = cup_simulations(players, 10000, 10, 0)"
   ]
  },
  {
   "cell_type": "code",
   "execution_count": 9,
   "metadata": {
    "collapsed": false
   },
   "outputs": [
    {
     "name": "stdout",
     "output_type": "stream",
     "text": [
      "Levon Aronian (2802) 18.94 %\n",
      "Maxime Vachier-Lagrave (2804) 15.85 %\n",
      "Wesley So (2792) 15.62 %\n",
      "Alexander Grischuk (2788) 8.12 %\n",
      "Fabiano Caruana (2799) 7.73 %\n",
      "Ian Nepomniachtchi (2741) 6.36 %\n",
      "Peter Svidler (2756) 6.31 %\n",
      "Anish Giri (2777) 4.81 %\n",
      "Vassily Ivanchuk (2727) 4.57 %\n",
      "Ding Liren (2771) 3.97 %\n",
      "Wang Hao (2701) 2.82 %\n",
      "Vladimir Fedoseev (2731) 2.51 %\n",
      "Li Chao (2745) 1.17 %\n",
      "Bu Xiangzhi (2714) 0.55 %\n",
      "Maxim Rodshtein (2695) 0.36 %\n",
      "Daniil Dubov (2666) 0.31 %\n"
     ]
    }
   ],
   "source": [
    "for player in simulated_players:\n",
    "    print(player, round(player.win_percentage*100, 3), \"%\")"
   ]
  },
  {
   "cell_type": "code",
   "execution_count": 31,
   "metadata": {
    "collapsed": false
   },
   "outputs": [
    {
     "data": {
      "text/plain": [
       "2776"
      ]
     },
     "execution_count": 31,
     "metadata": {},
     "output_type": "execute_result"
    }
   ],
   "source": [
    "playerdict[\"Anish Giri\"].blitz"
   ]
  },
  {
   "cell_type": "code",
   "execution_count": 46,
   "metadata": {
    "collapsed": false
   },
   "outputs": [
    {
     "data": {
      "text/plain": [
       "2810"
      ]
     },
     "execution_count": 46,
     "metadata": {},
     "output_type": "execute_result"
    }
   ],
   "source": [
    "playerdict[\"Ian Nepomniachtchi\"].blitz"
   ]
  },
  {
   "cell_type": "code",
   "execution_count": 43,
   "metadata": {
    "collapsed": false
   },
   "outputs": [
    {
     "data": {
      "text/plain": [
       "0.558731369324761"
      ]
     },
     "execution_count": 43,
     "metadata": {},
     "output_type": "execute_result"
    }
   ],
   "source": [
    "prior(playerdict[\"Ian Nepomniachtchi\"], playerdict[\"Anish Giri\"], \"Blitz\")"
   ]
  },
  {
   "cell_type": "code",
   "execution_count": 45,
   "metadata": {
    "collapsed": false
   },
   "outputs": [
    {
     "data": {
      "text/plain": [
       "(0.8571428571428571, 7)"
      ]
     },
     "execution_count": 45,
     "metadata": {},
     "output_type": "execute_result"
    }
   ],
   "source": [
    "posterior(playerdict[\"Ian Nepomniachtchi\"], playerdict[\"Anish Giri\"], \"Blitz\")"
   ]
  },
  {
   "cell_type": "code",
   "execution_count": 39,
   "metadata": {
    "collapsed": false
   },
   "outputs": [
    {
     "data": {
      "text/plain": [
       "0.6757496093292599"
      ]
     },
     "execution_count": 39,
     "metadata": {},
     "output_type": "execute_result"
    }
   ],
   "source": [
    "estimate_score(playerdict[\"Ian Nepomniachtchi\"], playerdict[\"Anish Giri\"], 10, \"Blitz\")"
   ]
  },
  {
   "cell_type": "code",
   "execution_count": null,
   "metadata": {
    "collapsed": true
   },
   "outputs": [],
   "source": []
  }
 ],
 "metadata": {
  "anaconda-cloud": {},
  "kernelspec": {
   "display_name": "Python [conda root]",
   "language": "python",
   "name": "conda-root-py"
  },
  "language_info": {
   "codemirror_mode": {
    "name": "ipython",
    "version": 3
   },
   "file_extension": ".py",
   "mimetype": "text/x-python",
   "name": "python",
   "nbconvert_exporter": "python",
   "pygments_lexer": "ipython3",
   "version": "3.5.2"
  }
 },
 "nbformat": 4,
 "nbformat_minor": 1
}
