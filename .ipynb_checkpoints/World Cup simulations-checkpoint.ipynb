{
 "cells": [
  {
   "cell_type": "code",
   "execution_count": 1,
   "metadata": {
    "collapsed": true
   },
   "outputs": [],
   "source": [
    "import pandas as pd\n",
    "from player import Player\n",
    "from ratingscraper import *\n",
    "from scorescraper import *\n",
    "from estimation import *\n",
    "from simulations import *"
   ]
  },
  {
   "cell_type": "markdown",
   "metadata": {},
   "source": [
    "## Generate players"
   ]
  },
  {
   "cell_type": "code",
   "execution_count": 3,
   "metadata": {
    "collapsed": true
   },
   "outputs": [],
   "source": [
    "df = pd.read_csv('wcplayers.csv')"
   ]
  },
  {
   "cell_type": "code",
   "execution_count": 4,
   "metadata": {
    "collapsed": true
   },
   "outputs": [],
   "source": [
    "players = []\n",
    "for x in df.iterrows():\n",
    "    players.append(Player(x[1][0], x[1][1]))"
   ]
  },
  {
   "cell_type": "markdown",
   "metadata": {},
   "source": [
    "## Web scraping"
   ]
  },
  {
   "cell_type": "code",
   "execution_count": 5,
   "metadata": {
    "collapsed": true
   },
   "outputs": [],
   "source": [
    "scrape_ratings(players)"
   ]
  },
  {
   "cell_type": "code",
   "execution_count": 6,
   "metadata": {
    "scrolled": true
   },
   "outputs": [
    {
     "data": {
      "text/plain": [
       "[Bu Xiangzhi (2714),\n",
       " Peter Svidler (2756),\n",
       " Maxime Vachier-Lagrave (2804),\n",
       " Alexander Grischuk (2788),\n",
       " Vassily Ivanchuk (2727),\n",
       " Anish Giri (2777),\n",
       " Levon Aronian (2802),\n",
       " Daniil Dubov (2666),\n",
       " Wesley So (2792),\n",
       " Baadur Jobava (2702),\n",
       " Vladimir Fedoseev (2731),\n",
       " Maxim Rodshtein (2695),\n",
       " Evgeniy Najer (2694),\n",
       " Richard Rapport (2675),\n",
       " Wang Hao (2701),\n",
       " Ding Liren (2771)]"
      ]
     },
     "execution_count": 6,
     "metadata": {},
     "output_type": "execute_result"
    }
   ],
   "source": [
    "players"
   ]
  },
  {
   "cell_type": "code",
   "execution_count": 7,
   "metadata": {
    "collapsed": true
   },
   "outputs": [],
   "source": [
    "playerdict = {player.name: player for player in players}"
   ]
  },
  {
   "cell_type": "code",
   "execution_count": 8,
   "metadata": {
    "scrolled": true
   },
   "outputs": [
    {
     "name": "stdout",
     "output_type": "stream",
     "text": [
      "Fetching head-to-head score between Bu Xiangzhi and Bu Xiangzhi\n",
      "Fetching head-to-head score between Bu Xiangzhi and Peter Svidler\n",
      "Fetching head-to-head score between Bu Xiangzhi and Maxime Vachier-Lagrave\n",
      "Fetching head-to-head score between Bu Xiangzhi and Alexander Grischuk\n",
      "Fetching head-to-head score between Bu Xiangzhi and Vassily Ivanchuk\n",
      "Fetching head-to-head score between Bu Xiangzhi and Anish Giri\n",
      "Fetching head-to-head score between Bu Xiangzhi and Levon Aronian\n",
      "Fetching head-to-head score between Bu Xiangzhi and Daniil Dubov\n",
      "Fetching head-to-head score between Bu Xiangzhi and Wesley So\n",
      "Fetching head-to-head score between Bu Xiangzhi and Baadur Jobava\n",
      "Fetching head-to-head score between Bu Xiangzhi and Vladimir Fedoseev\n",
      "Fetching head-to-head score between Bu Xiangzhi and Maxim Rodshtein\n",
      "Fetching head-to-head score between Bu Xiangzhi and Evgeniy Najer\n",
      "Fetching head-to-head score between Bu Xiangzhi and Richard Rapport\n",
      "Fetching head-to-head score between Bu Xiangzhi and Wang Hao\n",
      "Fetching head-to-head score between Bu Xiangzhi and Ding Liren\n",
      "Fetching head-to-head score between Peter Svidler and Bu Xiangzhi\n",
      "Fetching head-to-head score between Peter Svidler and Peter Svidler\n",
      "Fetching head-to-head score between Peter Svidler and Maxime Vachier-Lagrave\n",
      "Fetching head-to-head score between Peter Svidler and Alexander Grischuk\n",
      "Fetching head-to-head score between Peter Svidler and Vassily Ivanchuk\n",
      "Fetching head-to-head score between Peter Svidler and Anish Giri\n",
      "Fetching head-to-head score between Peter Svidler and Levon Aronian\n",
      "Fetching head-to-head score between Peter Svidler and Daniil Dubov\n",
      "Fetching head-to-head score between Peter Svidler and Wesley So\n",
      "Fetching head-to-head score between Peter Svidler and Baadur Jobava\n",
      "Fetching head-to-head score between Peter Svidler and Vladimir Fedoseev\n",
      "Fetching head-to-head score between Peter Svidler and Maxim Rodshtein\n",
      "Fetching head-to-head score between Peter Svidler and Evgeniy Najer\n",
      "Fetching head-to-head score between Peter Svidler and Richard Rapport\n",
      "Fetching head-to-head score between Peter Svidler and Wang Hao\n",
      "Fetching head-to-head score between Peter Svidler and Ding Liren\n",
      "Fetching head-to-head score between Maxime Vachier-Lagrave and Bu Xiangzhi\n",
      "Fetching head-to-head score between Maxime Vachier-Lagrave and Peter Svidler\n",
      "Fetching head-to-head score between Maxime Vachier-Lagrave and Maxime Vachier-Lagrave\n",
      "Fetching head-to-head score between Maxime Vachier-Lagrave and Alexander Grischuk\n",
      "Fetching head-to-head score between Maxime Vachier-Lagrave and Vassily Ivanchuk\n",
      "Fetching head-to-head score between Maxime Vachier-Lagrave and Anish Giri\n",
      "Fetching head-to-head score between Maxime Vachier-Lagrave and Levon Aronian\n",
      "Fetching head-to-head score between Maxime Vachier-Lagrave and Daniil Dubov\n",
      "Fetching head-to-head score between Maxime Vachier-Lagrave and Wesley So\n",
      "Fetching head-to-head score between Maxime Vachier-Lagrave and Baadur Jobava\n",
      "Fetching head-to-head score between Maxime Vachier-Lagrave and Vladimir Fedoseev\n",
      "Fetching head-to-head score between Maxime Vachier-Lagrave and Maxim Rodshtein\n",
      "Fetching head-to-head score between Maxime Vachier-Lagrave and Evgeniy Najer\n",
      "Fetching head-to-head score between Maxime Vachier-Lagrave and Richard Rapport\n",
      "Fetching head-to-head score between Maxime Vachier-Lagrave and Wang Hao\n",
      "Fetching head-to-head score between Maxime Vachier-Lagrave and Ding Liren\n",
      "Fetching head-to-head score between Alexander Grischuk and Bu Xiangzhi\n",
      "Fetching head-to-head score between Alexander Grischuk and Peter Svidler\n",
      "Fetching head-to-head score between Alexander Grischuk and Maxime Vachier-Lagrave\n",
      "Fetching head-to-head score between Alexander Grischuk and Alexander Grischuk\n",
      "Fetching head-to-head score between Alexander Grischuk and Vassily Ivanchuk\n",
      "Fetching head-to-head score between Alexander Grischuk and Anish Giri\n",
      "Fetching head-to-head score between Alexander Grischuk and Levon Aronian\n",
      "Fetching head-to-head score between Alexander Grischuk and Daniil Dubov\n",
      "Fetching head-to-head score between Alexander Grischuk and Wesley So\n",
      "Fetching head-to-head score between Alexander Grischuk and Baadur Jobava\n",
      "Fetching head-to-head score between Alexander Grischuk and Vladimir Fedoseev\n",
      "Fetching head-to-head score between Alexander Grischuk and Maxim Rodshtein\n",
      "Fetching head-to-head score between Alexander Grischuk and Evgeniy Najer\n",
      "Fetching head-to-head score between Alexander Grischuk and Richard Rapport\n",
      "Fetching head-to-head score between Alexander Grischuk and Wang Hao\n",
      "Fetching head-to-head score between Alexander Grischuk and Ding Liren\n",
      "Fetching head-to-head score between Vassily Ivanchuk and Bu Xiangzhi\n",
      "Fetching head-to-head score between Vassily Ivanchuk and Peter Svidler\n",
      "Fetching head-to-head score between Vassily Ivanchuk and Maxime Vachier-Lagrave\n",
      "Fetching head-to-head score between Vassily Ivanchuk and Alexander Grischuk\n",
      "Fetching head-to-head score between Vassily Ivanchuk and Vassily Ivanchuk\n",
      "Fetching head-to-head score between Vassily Ivanchuk and Anish Giri\n",
      "Fetching head-to-head score between Vassily Ivanchuk and Levon Aronian\n",
      "Fetching head-to-head score between Vassily Ivanchuk and Daniil Dubov\n",
      "Fetching head-to-head score between Vassily Ivanchuk and Wesley So\n",
      "Fetching head-to-head score between Vassily Ivanchuk and Baadur Jobava\n",
      "Fetching head-to-head score between Vassily Ivanchuk and Vladimir Fedoseev\n",
      "Fetching head-to-head score between Vassily Ivanchuk and Maxim Rodshtein\n",
      "Fetching head-to-head score between Vassily Ivanchuk and Evgeniy Najer\n",
      "Fetching head-to-head score between Vassily Ivanchuk and Richard Rapport\n",
      "Fetching head-to-head score between Vassily Ivanchuk and Wang Hao\n",
      "Fetching head-to-head score between Vassily Ivanchuk and Ding Liren\n",
      "Fetching head-to-head score between Anish Giri and Bu Xiangzhi\n",
      "Fetching head-to-head score between Anish Giri and Peter Svidler\n",
      "Fetching head-to-head score between Anish Giri and Maxime Vachier-Lagrave\n",
      "Fetching head-to-head score between Anish Giri and Alexander Grischuk\n",
      "Fetching head-to-head score between Anish Giri and Vassily Ivanchuk\n",
      "Fetching head-to-head score between Anish Giri and Anish Giri\n",
      "Fetching head-to-head score between Anish Giri and Levon Aronian\n",
      "Fetching head-to-head score between Anish Giri and Daniil Dubov\n",
      "Fetching head-to-head score between Anish Giri and Wesley So\n",
      "Fetching head-to-head score between Anish Giri and Baadur Jobava\n",
      "Fetching head-to-head score between Anish Giri and Vladimir Fedoseev\n",
      "Fetching head-to-head score between Anish Giri and Maxim Rodshtein\n",
      "Fetching head-to-head score between Anish Giri and Evgeniy Najer\n",
      "Fetching head-to-head score between Anish Giri and Richard Rapport\n",
      "Fetching head-to-head score between Anish Giri and Wang Hao\n",
      "Fetching head-to-head score between Anish Giri and Ding Liren\n",
      "Fetching head-to-head score between Levon Aronian and Bu Xiangzhi\n",
      "Fetching head-to-head score between Levon Aronian and Peter Svidler\n",
      "Fetching head-to-head score between Levon Aronian and Maxime Vachier-Lagrave\n",
      "Fetching head-to-head score between Levon Aronian and Alexander Grischuk\n",
      "Fetching head-to-head score between Levon Aronian and Vassily Ivanchuk\n",
      "Fetching head-to-head score between Levon Aronian and Anish Giri\n",
      "Fetching head-to-head score between Levon Aronian and Levon Aronian\n",
      "Fetching head-to-head score between Levon Aronian and Daniil Dubov\n",
      "Fetching head-to-head score between Levon Aronian and Wesley So\n",
      "Fetching head-to-head score between Levon Aronian and Baadur Jobava\n",
      "Fetching head-to-head score between Levon Aronian and Vladimir Fedoseev\n",
      "Fetching head-to-head score between Levon Aronian and Maxim Rodshtein\n",
      "Fetching head-to-head score between Levon Aronian and Evgeniy Najer\n",
      "Fetching head-to-head score between Levon Aronian and Richard Rapport\n",
      "Fetching head-to-head score between Levon Aronian and Wang Hao\n",
      "Fetching head-to-head score between Levon Aronian and Ding Liren\n",
      "Fetching head-to-head score between Daniil Dubov and Bu Xiangzhi\n",
      "Fetching head-to-head score between Daniil Dubov and Peter Svidler\n",
      "Fetching head-to-head score between Daniil Dubov and Maxime Vachier-Lagrave\n",
      "Fetching head-to-head score between Daniil Dubov and Alexander Grischuk\n",
      "Fetching head-to-head score between Daniil Dubov and Vassily Ivanchuk\n"
     ]
    },
    {
     "name": "stdout",
     "output_type": "stream",
     "text": [
      "Fetching head-to-head score between Daniil Dubov and Anish Giri\n",
      "Fetching head-to-head score between Daniil Dubov and Levon Aronian\n",
      "Fetching head-to-head score between Daniil Dubov and Daniil Dubov\n",
      "Fetching head-to-head score between Daniil Dubov and Wesley So\n",
      "Fetching head-to-head score between Daniil Dubov and Baadur Jobava\n",
      "Fetching head-to-head score between Daniil Dubov and Vladimir Fedoseev\n",
      "Fetching head-to-head score between Daniil Dubov and Maxim Rodshtein\n",
      "Fetching head-to-head score between Daniil Dubov and Evgeniy Najer\n",
      "Fetching head-to-head score between Daniil Dubov and Richard Rapport\n",
      "Fetching head-to-head score between Daniil Dubov and Wang Hao\n",
      "Fetching head-to-head score between Daniil Dubov and Ding Liren\n",
      "Fetching head-to-head score between Wesley So and Bu Xiangzhi\n",
      "Fetching head-to-head score between Wesley So and Peter Svidler\n",
      "Fetching head-to-head score between Wesley So and Maxime Vachier-Lagrave\n",
      "Fetching head-to-head score between Wesley So and Alexander Grischuk\n",
      "Fetching head-to-head score between Wesley So and Vassily Ivanchuk\n",
      "Fetching head-to-head score between Wesley So and Anish Giri\n",
      "Fetching head-to-head score between Wesley So and Levon Aronian\n",
      "Fetching head-to-head score between Wesley So and Daniil Dubov\n",
      "Fetching head-to-head score between Wesley So and Wesley So\n",
      "Fetching head-to-head score between Wesley So and Baadur Jobava\n",
      "Fetching head-to-head score between Wesley So and Vladimir Fedoseev\n",
      "Fetching head-to-head score between Wesley So and Maxim Rodshtein\n",
      "Fetching head-to-head score between Wesley So and Evgeniy Najer\n",
      "Fetching head-to-head score between Wesley So and Richard Rapport\n",
      "Fetching head-to-head score between Wesley So and Wang Hao\n",
      "Fetching head-to-head score between Wesley So and Ding Liren\n",
      "Fetching head-to-head score between Baadur Jobava and Bu Xiangzhi\n",
      "Fetching head-to-head score between Baadur Jobava and Peter Svidler\n",
      "Fetching head-to-head score between Baadur Jobava and Maxime Vachier-Lagrave\n",
      "Fetching head-to-head score between Baadur Jobava and Alexander Grischuk\n",
      "Fetching head-to-head score between Baadur Jobava and Vassily Ivanchuk\n",
      "Fetching head-to-head score between Baadur Jobava and Anish Giri\n",
      "Fetching head-to-head score between Baadur Jobava and Levon Aronian\n",
      "Fetching head-to-head score between Baadur Jobava and Daniil Dubov\n",
      "Fetching head-to-head score between Baadur Jobava and Wesley So\n",
      "Fetching head-to-head score between Baadur Jobava and Baadur Jobava\n",
      "Fetching head-to-head score between Baadur Jobava and Vladimir Fedoseev\n",
      "Fetching head-to-head score between Baadur Jobava and Maxim Rodshtein\n",
      "Fetching head-to-head score between Baadur Jobava and Evgeniy Najer\n",
      "Fetching head-to-head score between Baadur Jobava and Richard Rapport\n",
      "Fetching head-to-head score between Baadur Jobava and Wang Hao\n",
      "Fetching head-to-head score between Baadur Jobava and Ding Liren\n",
      "Fetching head-to-head score between Vladimir Fedoseev and Bu Xiangzhi\n",
      "Fetching head-to-head score between Vladimir Fedoseev and Peter Svidler\n",
      "Fetching head-to-head score between Vladimir Fedoseev and Maxime Vachier-Lagrave\n",
      "Fetching head-to-head score between Vladimir Fedoseev and Alexander Grischuk\n",
      "Fetching head-to-head score between Vladimir Fedoseev and Vassily Ivanchuk\n",
      "Fetching head-to-head score between Vladimir Fedoseev and Anish Giri\n",
      "Fetching head-to-head score between Vladimir Fedoseev and Levon Aronian\n",
      "Fetching head-to-head score between Vladimir Fedoseev and Daniil Dubov\n",
      "Fetching head-to-head score between Vladimir Fedoseev and Wesley So\n",
      "Fetching head-to-head score between Vladimir Fedoseev and Baadur Jobava\n",
      "Fetching head-to-head score between Vladimir Fedoseev and Vladimir Fedoseev\n",
      "Fetching head-to-head score between Vladimir Fedoseev and Maxim Rodshtein\n",
      "Fetching head-to-head score between Vladimir Fedoseev and Evgeniy Najer\n",
      "Fetching head-to-head score between Vladimir Fedoseev and Richard Rapport\n",
      "Fetching head-to-head score between Vladimir Fedoseev and Wang Hao\n",
      "Fetching head-to-head score between Vladimir Fedoseev and Ding Liren\n",
      "Fetching head-to-head score between Maxim Rodshtein and Bu Xiangzhi\n",
      "Fetching head-to-head score between Maxim Rodshtein and Peter Svidler\n",
      "Fetching head-to-head score between Maxim Rodshtein and Maxime Vachier-Lagrave\n",
      "Fetching head-to-head score between Maxim Rodshtein and Alexander Grischuk\n",
      "Fetching head-to-head score between Maxim Rodshtein and Vassily Ivanchuk\n",
      "Fetching head-to-head score between Maxim Rodshtein and Anish Giri\n",
      "Fetching head-to-head score between Maxim Rodshtein and Levon Aronian\n",
      "Fetching head-to-head score between Maxim Rodshtein and Daniil Dubov\n",
      "Fetching head-to-head score between Maxim Rodshtein and Wesley So\n",
      "Fetching head-to-head score between Maxim Rodshtein and Baadur Jobava\n",
      "Fetching head-to-head score between Maxim Rodshtein and Vladimir Fedoseev\n",
      "Fetching head-to-head score between Maxim Rodshtein and Maxim Rodshtein\n",
      "Fetching head-to-head score between Maxim Rodshtein and Evgeniy Najer\n",
      "Fetching head-to-head score between Maxim Rodshtein and Richard Rapport\n",
      "Fetching head-to-head score between Maxim Rodshtein and Wang Hao\n",
      "Fetching head-to-head score between Maxim Rodshtein and Ding Liren\n",
      "Fetching head-to-head score between Evgeniy Najer and Bu Xiangzhi\n",
      "Fetching head-to-head score between Evgeniy Najer and Peter Svidler\n",
      "Fetching head-to-head score between Evgeniy Najer and Maxime Vachier-Lagrave\n",
      "Fetching head-to-head score between Evgeniy Najer and Alexander Grischuk\n",
      "Fetching head-to-head score between Evgeniy Najer and Vassily Ivanchuk\n",
      "Fetching head-to-head score between Evgeniy Najer and Anish Giri\n",
      "Fetching head-to-head score between Evgeniy Najer and Levon Aronian\n",
      "Fetching head-to-head score between Evgeniy Najer and Daniil Dubov\n",
      "Fetching head-to-head score between Evgeniy Najer and Wesley So\n",
      "Fetching head-to-head score between Evgeniy Najer and Baadur Jobava\n",
      "Fetching head-to-head score between Evgeniy Najer and Vladimir Fedoseev\n",
      "Fetching head-to-head score between Evgeniy Najer and Maxim Rodshtein\n",
      "Fetching head-to-head score between Evgeniy Najer and Evgeniy Najer\n",
      "Fetching head-to-head score between Evgeniy Najer and Richard Rapport\n",
      "Fetching head-to-head score between Evgeniy Najer and Wang Hao\n",
      "Fetching head-to-head score between Evgeniy Najer and Ding Liren\n",
      "Fetching head-to-head score between Richard Rapport and Bu Xiangzhi\n",
      "Fetching head-to-head score between Richard Rapport and Peter Svidler\n",
      "Fetching head-to-head score between Richard Rapport and Maxime Vachier-Lagrave\n",
      "Fetching head-to-head score between Richard Rapport and Alexander Grischuk\n",
      "Fetching head-to-head score between Richard Rapport and Vassily Ivanchuk\n",
      "Fetching head-to-head score between Richard Rapport and Anish Giri\n",
      "Fetching head-to-head score between Richard Rapport and Levon Aronian\n",
      "Fetching head-to-head score between Richard Rapport and Daniil Dubov\n",
      "Fetching head-to-head score between Richard Rapport and Wesley So\n",
      "Fetching head-to-head score between Richard Rapport and Baadur Jobava\n",
      "Fetching head-to-head score between Richard Rapport and Vladimir Fedoseev\n",
      "Fetching head-to-head score between Richard Rapport and Maxim Rodshtein\n",
      "Fetching head-to-head score between Richard Rapport and Evgeniy Najer\n",
      "Fetching head-to-head score between Richard Rapport and Richard Rapport\n",
      "Fetching head-to-head score between Richard Rapport and Wang Hao\n",
      "Fetching head-to-head score between Richard Rapport and Ding Liren\n",
      "Fetching head-to-head score between Wang Hao and Bu Xiangzhi\n",
      "Fetching head-to-head score between Wang Hao and Peter Svidler\n",
      "Fetching head-to-head score between Wang Hao and Maxime Vachier-Lagrave\n",
      "Fetching head-to-head score between Wang Hao and Alexander Grischuk\n",
      "Fetching head-to-head score between Wang Hao and Vassily Ivanchuk\n",
      "Fetching head-to-head score between Wang Hao and Anish Giri\n",
      "Fetching head-to-head score between Wang Hao and Levon Aronian\n",
      "Fetching head-to-head score between Wang Hao and Daniil Dubov\n",
      "Fetching head-to-head score between Wang Hao and Wesley So\n",
      "Fetching head-to-head score between Wang Hao and Baadur Jobava\n",
      "Fetching head-to-head score between Wang Hao and Vladimir Fedoseev\n",
      "Fetching head-to-head score between Wang Hao and Maxim Rodshtein\n",
      "Fetching head-to-head score between Wang Hao and Evgeniy Najer\n"
     ]
    },
    {
     "name": "stdout",
     "output_type": "stream",
     "text": [
      "Fetching head-to-head score between Wang Hao and Richard Rapport\n",
      "Fetching head-to-head score between Wang Hao and Wang Hao\n",
      "Fetching head-to-head score between Wang Hao and Ding Liren\n",
      "Fetching head-to-head score between Ding Liren and Bu Xiangzhi\n",
      "Fetching head-to-head score between Ding Liren and Peter Svidler\n",
      "Fetching head-to-head score between Ding Liren and Maxime Vachier-Lagrave\n",
      "Fetching head-to-head score between Ding Liren and Alexander Grischuk\n",
      "Fetching head-to-head score between Ding Liren and Vassily Ivanchuk\n",
      "Fetching head-to-head score between Ding Liren and Anish Giri\n",
      "Fetching head-to-head score between Ding Liren and Levon Aronian\n",
      "Fetching head-to-head score between Ding Liren and Daniil Dubov\n",
      "Fetching head-to-head score between Ding Liren and Wesley So\n",
      "Fetching head-to-head score between Ding Liren and Baadur Jobava\n",
      "Fetching head-to-head score between Ding Liren and Vladimir Fedoseev\n",
      "Fetching head-to-head score between Ding Liren and Maxim Rodshtein\n",
      "Fetching head-to-head score between Ding Liren and Evgeniy Najer\n",
      "Fetching head-to-head score between Ding Liren and Richard Rapport\n",
      "Fetching head-to-head score between Ding Liren and Wang Hao\n",
      "Fetching head-to-head score between Ding Liren and Ding Liren\n"
     ]
    }
   ],
   "source": [
    "scrape_scores(players)"
   ]
  },
  {
   "cell_type": "markdown",
   "metadata": {},
   "source": [
    "The scrape_scores() function takes a while to run, because it has to send a request to chessgames.com's slow search. The time complexity is O(n^2), which means it will become significantly faster as the World Cup progresses."
   ]
  },
  {
   "cell_type": "markdown",
   "metadata": {},
   "source": [
    "## Simulations"
   ]
  },
  {
   "cell_type": "markdown",
   "metadata": {},
   "source": [
    "We simulate one World Cup and print out the results by setting the verbosity flag to 1."
   ]
  },
  {
   "cell_type": "code",
   "execution_count": 49,
   "metadata": {
    "scrolled": true
   },
   "outputs": [
    {
     "name": "stdout",
     "output_type": "stream",
     "text": [
      "----------\n",
      "Round 4\n",
      "----------\n",
      "Match Bu Xiangzhi (2714) vs. Peter Svidler (2756)\n",
      "Game 1: Classical\n",
      "Draw\n",
      "Game 2: Classical\n",
      "Draw\n",
      "Game 3: Rapid\n",
      "Peter Svidler won\n",
      "Game 4: Rapid\n",
      "Bu Xiangzhi won\n",
      "Game 5: Rapid\n",
      "Draw\n",
      "Game 6: Rapid\n",
      "Draw\n",
      "Game 7: Blitz\n",
      "Peter Svidler won\n",
      "Game 8: Blitz\n",
      "Peter Svidler won\n",
      "Peter Svidler (2756) won the match\n",
      "Match Maxime Vachier-Lagrave (2804) vs. Alexander Grischuk (2788)\n",
      "Game 1: Classical\n",
      "Draw\n",
      "Game 2: Classical\n",
      "Alexander Grischuk won\n",
      "Alexander Grischuk (2788) won the match\n",
      "Match Vassily Ivanchuk (2727) vs. Anish Giri (2777)\n",
      "Game 1: Classical\n",
      "Anish Giri won\n",
      "Game 2: Classical\n",
      "Draw\n",
      "Anish Giri (2777) won the match\n",
      "Match Levon Aronian (2802) vs. Daniil Dubov (2666)\n",
      "Game 1: Classical\n",
      "Draw\n",
      "Game 2: Classical\n",
      "Draw\n",
      "Game 3: Rapid\n",
      "Levon Aronian won\n",
      "Game 4: Rapid\n",
      "Levon Aronian won\n",
      "Levon Aronian (2802) won the match\n",
      "Match Wesley So (2792) vs. Baadur Jobava (2702)\n",
      "Game 1: Classical\n",
      "Wesley So won\n",
      "Game 2: Classical\n",
      "Wesley So won\n",
      "Wesley So (2792) won the match\n",
      "Match Vladimir Fedoseev (2731) vs. Maxim Rodshtein (2695)\n",
      "Game 1: Classical\n",
      "Draw\n",
      "Game 2: Classical\n",
      "Vladimir Fedoseev won\n",
      "Vladimir Fedoseev (2731) won the match\n",
      "Match Evgeniy Najer (2694) vs. Richard Rapport (2675)\n",
      "Game 1: Classical\n",
      "Draw\n",
      "Game 2: Classical\n",
      "Draw\n",
      "Game 3: Rapid\n",
      "Draw\n",
      "Game 4: Rapid\n",
      "Richard Rapport won\n",
      "Richard Rapport (2675) won the match\n",
      "Match Wang Hao (2701) vs. Ding Liren (2771)\n",
      "Game 1: Classical\n",
      "Ding Liren won\n",
      "Game 2: Classical\n",
      "Ding Liren won\n",
      "Ding Liren (2771) won the match\n",
      "----------\n",
      "Round 5\n",
      "----------\n",
      "Match Peter Svidler (2756) vs. Alexander Grischuk (2788)\n",
      "Game 1: Classical\n",
      "Draw\n",
      "Game 2: Classical\n",
      "Draw\n",
      "Game 3: Rapid\n",
      "Draw\n",
      "Game 4: Rapid\n",
      "Alexander Grischuk won\n",
      "Alexander Grischuk (2788) won the match\n",
      "Match Anish Giri (2777) vs. Levon Aronian (2802)\n",
      "Game 1: Classical\n",
      "Draw\n",
      "Game 2: Classical\n",
      "Draw\n",
      "Game 3: Rapid\n",
      "Anish Giri won\n",
      "Game 4: Rapid\n",
      "Draw\n",
      "Anish Giri (2777) won the match\n",
      "Match Wesley So (2792) vs. Vladimir Fedoseev (2731)\n",
      "Game 1: Classical\n",
      "Wesley So won\n",
      "Game 2: Classical\n",
      "Wesley So won\n",
      "Wesley So (2792) won the match\n",
      "Match Richard Rapport (2675) vs. Ding Liren (2771)\n",
      "Game 1: Classical\n",
      "Ding Liren won\n",
      "Game 2: Classical\n",
      "Richard Rapport won\n",
      "Game 3: Rapid\n",
      "Richard Rapport won\n",
      "Game 4: Rapid\n",
      "Draw\n",
      "Richard Rapport (2675) won the match\n",
      "----------\n",
      "Round 6\n",
      "----------\n",
      "Match Alexander Grischuk (2788) vs. Anish Giri (2777)\n",
      "Game 1: Classical\n",
      "Draw\n",
      "Game 2: Classical\n",
      "Anish Giri won\n",
      "Anish Giri (2777) won the match\n",
      "Match Wesley So (2792) vs. Richard Rapport (2675)\n",
      "Game 1: Classical\n",
      "Wesley So won\n",
      "Game 2: Classical\n",
      "Wesley So won\n",
      "Wesley So (2792) won the match\n",
      "----------\n",
      "Round 7\n",
      "----------\n",
      "Match Anish Giri (2777) vs. Wesley So (2792)\n",
      "Game 1: Classical\n",
      "Draw\n",
      "Game 2: Classical\n",
      "Draw\n",
      "Game 3: Rapid\n",
      "Draw\n",
      "Game 4: Rapid\n",
      "Wesley So won\n",
      "Wesley So (2792) won the match\n"
     ]
    },
    {
     "data": {
      "text/plain": [
       "Wesley So (2792)"
      ]
     },
     "execution_count": 49,
     "metadata": {},
     "output_type": "execute_result"
    }
   ],
   "source": [
    "W = 10\n",
    "verbosity = 1\n",
    "simulate_worldcup(players, 4, W, verbosity)"
   ]
  },
  {
   "cell_type": "markdown",
   "metadata": {},
   "source": [
    "Now we run 10,000 simulations instead (without printing!) and display the results."
   ]
  },
  {
   "cell_type": "code",
   "execution_count": 59,
   "metadata": {
    "scrolled": false
   },
   "outputs": [
    {
     "name": "stdout",
     "output_type": "stream",
     "text": [
      "Wesley So (2792) 24.34 %\n",
      "Levon Aronian (2802) 18.43 %\n",
      "Maxime Vachier-Lagrave (2804) 15.78 %\n",
      "Alexander Grischuk (2788) 8.06 %\n",
      "Ding Liren (2771) 8.05 %\n",
      "Peter Svidler (2756) 6.22 %\n",
      "Anish Giri (2777) 4.85 %\n",
      "Vassily Ivanchuk (2727) 4.48 %\n",
      "Vladimir Fedoseev (2731) 3.66 %\n",
      "Wang Hao (2701) 2.52 %\n",
      "Richard Rapport (2675) 1.37 %\n",
      "Bu Xiangzhi (2714) 0.67 %\n",
      "Maxim Rodshtein (2695) 0.54 %\n",
      "Evgeniy Najer (2694) 0.54 %\n",
      "Baadur Jobava (2702) 0.32 %\n",
      "Daniil Dubov (2666) 0.17 %\n"
     ]
    }
   ],
   "source": [
    "N = 10000\n",
    "W = 10\n",
    "verbosity = 0\n",
    "simulated_players = worldcup_simulations(players, 3, N, W, verbosity)\n",
    "for player in simulated_players:\n",
    "    print(player, round(player.win_percentage*100, 3), \"%\")"
   ]
  },
  {
   "cell_type": "markdown",
   "metadata": {},
   "source": [
    "## Plotting"
   ]
  },
  {
   "cell_type": "code",
   "execution_count": 60,
   "metadata": {
    "collapsed": true
   },
   "outputs": [],
   "source": [
    "import matplotlib\n",
    "import matplotlib.pyplot as plt\n",
    "import seaborn as sns\n",
    "%matplotlib inline"
   ]
  },
  {
   "cell_type": "code",
   "execution_count": 61,
   "metadata": {
    "collapsed": true,
    "scrolled": false
   },
   "outputs": [],
   "source": [
    "def plot_winner_predictions(players):\n",
    "    names = [player.name.split(\" \")[-1] for player in players]\n",
    "    win_percentages = [player.win_percentage for player in players]\n",
    "    player_df = pd.DataFrame({\"Name\": names, \"Win percentage\": win_percentages})\n",
    "\n",
    "    matplotlib.rcParams['figure.figsize'] = (16, 10)\n",
    "    matplotlib.rcParams['font.size'] = 40\n",
    "    sns.barplot(x=\"Name\", y=\"Win percentage\", data=player_df[player_df[\"Win percentage\"]>0.01]).set_title(\"World Cup 2017 Winner Predictions\")"
   ]
  },
  {
   "cell_type": "code",
   "execution_count": 62,
   "metadata": {},
   "outputs": [
    {
     "data": {
      "image/png": "[encoded data removed]",
      "text/plain": [
       "<matplotlib.figure.Figure at 0x1c24e68b748>"
      ]
     },
     "metadata": {},
     "output_type": "display_data"
    }
   ],
   "source": [
    "plot_winner_predictions(simulated_players)"
   ]
  },
  {
   "cell_type": "markdown",
   "metadata": {},
   "source": [
    "This sets the current round scores of the players:"
   ]
  },
  {
   "cell_type": "code",
   "execution_count": 63,
   "metadata": {},
   "outputs": [],
   "source": [
    "playerdict[\"Bu Xiangzhi\"].current_score = 1\n",
    "playerdict[\"Levon Aronian\"].current_score = 10\n",
    "playerdict[\"Daniil Dubov\"].current_score = 0\n",
    "playerdict[\"Vladimir Fedoseev\"].current_score = 1\n",
    "playerdict[\"Baadur Jobava\"].current_score = 1\n",
    "playerdict[\"Maxim Rodshtein\"].current_score = 1\n",
    "playerdict[\"Vassily Ivanchuk\"].current_score = 10\n",
    "playerdict[\"Wang Hao\"].current_score = 0\n",
    "playerdict[\"Evgeniy Najer\"].current_score = 1\n",
    "playerdict[\"Alexander Grischuk\"].current_score = 1\n",
    "playerdict[\"Richard Rapport\"].current_score = 1\n",
    "playerdict[\"Anish Giri\"].current_score = 0\n",
    "playerdict[\"Wesley So\"].current_score = 1\n",
    "playerdict[\"Peter Svidler\"].current_score = 1\n",
    "playerdict[\"Maxime Vachier-Lagrave\"].current_score = 1\n",
    "playerdict[\"Ding Liren\"].current_score = 10"
   ]
  },
  {
   "cell_type": "code",
   "execution_count": 64,
   "metadata": {},
   "outputs": [
    {
     "name": "stdout",
     "output_type": "stream",
     "text": [
      "Wesley So (2792) 25.41 %\n",
      "Levon Aronian (2802) 16.66 %\n",
      "Maxime Vachier-Lagrave (2804) 15.47 %\n",
      "Ding Liren (2771) 12.62 %\n",
      "Vassily Ivanchuk (2727) 9.81 %\n",
      "Alexander Grischuk (2788) 7.37 %\n",
      "Peter Svidler (2756) 5.73 %\n",
      "Vladimir Fedoseev (2731) 3.72 %\n",
      "Richard Rapport (2675) 1.79 %\n",
      "Bu Xiangzhi (2714) 0.72 %\n",
      "Maxim Rodshtein (2695) 0.39 %\n",
      "Evgeniy Najer (2694) 0.17 %\n",
      "Baadur Jobava (2702) 0.14 %\n",
      "Anish Giri (2777) 0.0 %\n",
      "Daniil Dubov (2666) 0.0 %\n",
      "Wang Hao (2701) 0.0 %\n"
     ]
    }
   ],
   "source": [
    "N = 10000\n",
    "W = 10\n",
    "verbosity = 0\n",
    "simulated_players = worldcup_simulations(players, 4, N, W, verbosity)\n",
    "for player in simulated_players:\n",
    "    print(player, round(player.win_percentage*100, 3), \"%\")"
   ]
  },
  {
   "cell_type": "code",
   "execution_count": 65,
   "metadata": {},
   "outputs": [
    {
     "data": {
      "image/png": "[encoded data removed]",
      "text/plain": [
       "<matplotlib.figure.Figure at 0x1c24eed2208>"
      ]
     },
     "metadata": {},
     "output_type": "display_data"
    }
   ],
   "source": [
    "plot_winner_predictions(simulated_players)"
   ]
  },
  {
   "cell_type": "code",
   "execution_count": 51,
   "metadata": {},
   "outputs": [
    {
     "name": "stdout",
     "output_type": "stream",
     "text": [
      "Bu Xiangzhi (2714) 0.27\n",
      "Peter Svidler (2756) 0.73\n"
     ]
    }
   ],
   "source": [
    "worldcup_match_simulations(playerdict[\"Bu Xiangzhi\"], playerdict[\"Peter Svidler\"], W, 10000, 0)"
   ]
  },
  {
   "cell_type": "code",
   "execution_count": 52,
   "metadata": {},
   "outputs": [
    {
     "name": "stdout",
     "output_type": "stream",
     "text": [
      "Maxime Vachier-Lagrave (2804) 0.5789\n",
      "Alexander Grischuk (2788) 0.4211\n"
     ]
    }
   ],
   "source": [
    "worldcup_match_simulations(playerdict[\"Maxime Vachier-Lagrave\"], playerdict[\"Alexander Grischuk\"], W, 10000, 0)"
   ]
  },
  {
   "cell_type": "code",
   "execution_count": 53,
   "metadata": {},
   "outputs": [
    {
     "name": "stdout",
     "output_type": "stream",
     "text": [
      "Vassily Ivanchuk (2727) 1.0\n",
      "Anish Giri (2777) 0.0\n"
     ]
    }
   ],
   "source": [
    "worldcup_match_simulations(playerdict[\"Vassily Ivanchuk\"], playerdict[\"Anish Giri\"], W, 10000, 0)"
   ]
  },
  {
   "cell_type": "code",
   "execution_count": 54,
   "metadata": {},
   "outputs": [
    {
     "name": "stdout",
     "output_type": "stream",
     "text": [
      "Daniil Dubov (2666) 0.0\n",
      "Levon Aronian (2802) 1.0\n"
     ]
    }
   ],
   "source": [
    "worldcup_match_simulations(playerdict[\"Daniil Dubov\"], playerdict[\"Levon Aronian\"], W, 10000, 0)"
   ]
  },
  {
   "cell_type": "code",
   "execution_count": 55,
   "metadata": {},
   "outputs": [
    {
     "name": "stdout",
     "output_type": "stream",
     "text": [
      "Wesley So (2792) 0.9513\n",
      "Baadur Jobava (2702) 0.0487\n"
     ]
    }
   ],
   "source": [
    "worldcup_match_simulations(playerdict[\"Wesley So\"], playerdict[\"Baadur Jobava\"], W, 10000, 0)"
   ]
  },
  {
   "cell_type": "code",
   "execution_count": 56,
   "metadata": {},
   "outputs": [
    {
     "name": "stdout",
     "output_type": "stream",
     "text": [
      "Maxim Rodshtein (2695) 0.2825\n",
      "Vladimir Fedoseev (2731) 0.7175\n"
     ]
    }
   ],
   "source": [
    "worldcup_match_simulations(playerdict[\"Maxim Rodshtein\"], playerdict[\"Vladimir Fedoseev\"], W, 10000, 0)"
   ]
  },
  {
   "cell_type": "code",
   "execution_count": 57,
   "metadata": {},
   "outputs": [
    {
     "name": "stdout",
     "output_type": "stream",
     "text": [
      "Evgeniy Najer (2694) 0.2093\n",
      "Richard Rapport (2675) 0.7907\n"
     ]
    }
   ],
   "source": [
    "worldcup_match_simulations(playerdict[\"Evgeniy Najer\"], playerdict[\"Richard Rapport\"], W, 10000, 0)"
   ]
  },
  {
   "cell_type": "code",
   "execution_count": 58,
   "metadata": {},
   "outputs": [
    {
     "name": "stdout",
     "output_type": "stream",
     "text": [
      "Wang Hao (2701) 0.0\n",
      "Ding Liren (2771) 1.0\n"
     ]
    }
   ],
   "source": [
    "worldcup_match_simulations(playerdict[\"Wang Hao\"], playerdict[\"Ding Liren\"], W, 10000, 0)"
   ]
  },
  {
   "cell_type": "code",
   "execution_count": 37,
   "metadata": {
    "collapsed": true
   },
   "outputs": [],
   "source": [
    "playerdict[\"Wesley So\"].scores[\"Classical\"][\"Baadur Jobava\"] = [2,0,2]\n",
    "playerdict[\"Wesley So\"].scores[\"RapidBlitz\"][\"Baadur Jobava\"] = [5,0,2]\n",
    "playerdict[\"Wesley So\"].scores[\"Classical\"][\"Maxim Rodshtein\"] = [1,0,2]\n",
    "playerdict[\"Wesley So\"].scores[\"RapidBlitz\"][\"Maxim Rodshtein\"] = [0,0,0]\n",
    "playerdict[\"Wesley So\"].scores[\"Classical\"][\"Richard Rapport\"] = [2,0,0]\n",
    "playerdict[\"Wesley So\"].scores[\"RapidBlitz\"][\"Richard Rapport\"] = [0,0,0]\n",
    "playerdict[\"Wesley So\"].scores[\"Classical\"][\"Ding Liren\"] = [1,2,11]\n",
    "playerdict[\"Wesley So\"].scores[\"RapidBlitz\"][\"Richard Rapport\"] = [2,2,12]\n",
    "playerdict[\"Wesley So\"].scores[\"Classical\"][\"Peter Svidler\"] = [0,0,4]\n",
    "playerdict[\"Wesley So\"].scores[\"RapidBlitz\"][\"Peter Svidler\"] = [0,0,0]\n",
    "playerdict[\"Wesley So\"].scores[\"Classical\"][\"Bu Xiangzhi\"] = [0,0,1]\n",
    "playerdict[\"Wesley So\"].scores[\"RapidBlitz\"][\"Bu Xiangzhi\"] = [0,0,0]\n",
    "playerdict[\"Wesley So\"].scores[\"Classical\"][\"Maxime Vachier-Lagrave\"] = [1,4,9]\n",
    "playerdict[\"Wesley So\"].scores[\"RapidBlitz\"][\"Maxime Vachier-Lagrave\"] = [2,10,15]\n",
    "playerdict[\"Wesley So\"].scores[\"Classical\"][\"Alexander Grischuk\"] = [1,0,0]\n",
    "playerdict[\"Wesley So\"].scores[\"RapidBlitz\"][\"Alexander Grischuk\"] = [2,0,2]\n",
    "playerdict[\"Wesley So\"].scores[\"Classical\"][\"Vassily Ivanchuk\"] = [2,0,4]\n",
    "playerdict[\"Wesley So\"].scores[\"RapidBlitz\"][\"Vassily Ivanchuk\"] = [2,0,7]\n",
    "playerdict[\"Wesley So\"].scores[\"Classical\"][\"Levon Aronian\"] = [1,3,5]\n",
    "playerdict[\"Wesley So\"].scores[\"RapidBlitz\"][\"Levon Aronian\"] = [3,5,11]"
   ]
  },
  {
   "cell_type": "code",
   "execution_count": null,
   "metadata": {
    "collapsed": true
   },
   "outputs": [],
   "source": []
  }
 ],
 "metadata": {
  "anaconda-cloud": {},
  "kernelspec": {
   "display_name": "Python 3",
   "language": "python",
   "name": "python3"
  },
  "language_info": {
   "codemirror_mode": {
    "name": "ipython",
    "version": 3
   },
   "file_extension": ".py",
   "mimetype": "text/x-python",
   "name": "python",
   "nbconvert_exporter": "python",
   "pygments_lexer": "ipython3",
   "version": "3.6.1"
  }
 },
 "nbformat": 4,
 "nbformat_minor": 1
}
