{
 "cells": [
  {
   "cell_type": "code",
   "execution_count": 1,
   "metadata": {},
   "outputs": [],
   "source": [
    "import pandas as pd\n",
    "from player import Player\n",
    "from ratingscraper import *\n",
    "from scorescraper import *\n",
    "from estimation import *\n",
    "from simulations import *"
   ]
  },
  {
   "cell_type": "code",
   "execution_count": 2,
   "metadata": {
    "collapsed": true
   },
   "outputs": [],
   "source": [
    "df = pd.read_csv('players.csv')\n",
    "# df = pd.read_csv('wcplayers.csv')\n",
    "# df = pd.read_csv('magnusbu.csv')"
   ]
  },
  {
   "cell_type": "code",
   "execution_count": 3,
   "metadata": {},
   "outputs": [],
   "source": [
    "players = []\n",
    "for x in df.iterrows():\n",
    "    players.append(Player(x[1][0], x[1][1]))"
   ]
  },
  {
   "cell_type": "code",
   "execution_count": 4,
   "metadata": {
    "collapsed": true
   },
   "outputs": [],
   "source": [
    "scrape_ratings(players)"
   ]
  },
  {
   "cell_type": "code",
   "execution_count": 5,
   "metadata": {
    "scrolled": true
   },
   "outputs": [
    {
     "data": {
      "text/plain": [
       "[Levon Aronian (2802),\n",
       " Maxim Matlakov (2728),\n",
       " Vladislav Artemiev (2692),\n",
       " Daniil Dubov (2666),\n",
       " Magnus Carlsen (2827),\n",
       " Bu Xiangzhi (2714),\n",
       " Fabiano Caruana (2799),\n",
       " Evgeniy Najer (2694),\n",
       " Ding Liren (2771),\n",
       " Vidit Santosh Gujrathi (2702),\n",
       " Anish Giri (2777),\n",
       " Sethuraman P Sethuraman (2617),\n",
       " Alexander Grischuk (2788),\n",
       " David Navara (2720),\n",
       " Vassily Ivanchuk (2727),\n",
       " Vladimir Kramnik (2803),\n",
       " Aleksandr Lenderman (2565),\n",
       " Maxime Vachier-Lagrave (2804),\n",
       " Li Chao (2745),\n",
       " Richard Rapport (2675),\n",
       " Hikaru Nakamura (2781),\n",
       " Vladimir Fedoseev (2731),\n",
       " Ian Nepomniachtchi (2741),\n",
       " Baadur Jobava (2702),\n",
       " Alexander Onischuk (2682),\n",
       " Peter Svidler (2756),\n",
       " Maxim Rodshtein (2695),\n",
       " Anton Kovalyov (2649),\n",
       " Francisco Vallejo Pons (2716),\n",
       " Wesley So (2792),\n",
       " Wang Hao (2701),\n",
       " Yuriy Kuzubov (2688)]"
      ]
     },
     "execution_count": 5,
     "metadata": {},
     "output_type": "execute_result"
    }
   ],
   "source": [
    "players"
   ]
  },
  {
   "cell_type": "code",
   "execution_count": 6,
   "metadata": {},
   "outputs": [],
   "source": [
    "playerdict = {player.name: player for player in players}"
   ]
  },
  {
   "cell_type": "code",
   "execution_count": 7,
   "metadata": {
    "scrolled": true
   },
   "outputs": [],
   "source": [
    "# scrape_scores(players)"
   ]
  },
  {
   "cell_type": "code",
   "execution_count": 29,
   "metadata": {},
   "outputs": [],
   "source": [
    "playerdict[\"Magnus Carlsen\"].current_score = 0\n",
    "playerdict[\"Bu Xiangzhi\"].current_score = 10\n",
    "playerdict[\"Levon Aronian\"].current_score = 1\n",
    "playerdict[\"Maxim Matlakov\"].current_score = 1\n",
    "playerdict[\"Daniil Dubov\"].current_score = 10\n",
    "playerdict[\"Vladislav Artemiev\"].current_score = 0\n",
    "playerdict[\"Vladimir Fedoseev\"].current_score = 10\n",
    "playerdict[\"Hikaru Nakamura\"].current_score = 0\n",
    "playerdict[\"Ian Nepomniachtchi\"].current_score = 1\n",
    "playerdict[\"Baadur Jobava\"].current_score = 1\n",
    "playerdict[\"Maxim Rodshtein\"].current_score = 10\n",
    "playerdict[\"Anton Kovalyov\"].current_score = 0\n",
    "playerdict[\"Vladimir Kramnik\"].current_score = 0\n",
    "playerdict[\"Vassily Ivanchuk\"].current_score = 10\n",
    "playerdict[\"Yuriy Kuzubov\"].current_score = 0\n",
    "playerdict[\"Wang Hao\"].current_score = 10\n",
    "playerdict[\"Fabiano Caruana\"].current_score = 1\n",
    "playerdict[\"Evgeniy Najer\"].current_score = 1\n",
    "playerdict[\"David Navara\"].current_score = 1\n",
    "playerdict[\"Alexander Grischuk\"].current_score = 1\n",
    "playerdict[\"Richard Rapport\"].current_score = 1\n",
    "playerdict[\"Li Chao\"].current_score = 1\n",
    "playerdict[\"Anish Giri\"].current_score = 1\n",
    "playerdict[\"Sethuraman P Sethuraman\"].current_score = 1\n",
    "playerdict[\"Wesley So\"].current_score = 10\n",
    "playerdict[\"Francisco Vallejo Pons\"].current_score = 0\n",
    "playerdict[\"Peter Svidler\"].current_score = 10\n",
    "playerdict[\"Alexander Onischuk\"].current_score = 0\n",
    "playerdict[\"Maxime Vachier-Lagrave\"].current_score = 1\n",
    "playerdict[\"Aleksandr Lenderman\"].current_score = 1\n",
    "playerdict[\"Ding Liren\"].current_score = 1\n",
    "playerdict[\"Vidit Santosh Gujrathi\"].current_score = 1"
   ]
  },
  {
   "cell_type": "code",
   "execution_count": 30,
   "metadata": {
    "scrolled": true
   },
   "outputs": [],
   "source": [
    "N = 1000\n",
    "W = 10\n",
    "verbosity = 0\n",
    "simulated_players = worldcup_simulations(players, 3, N, W, verbosity)"
   ]
  },
  {
   "cell_type": "code",
   "execution_count": 31,
   "metadata": {
    "scrolled": false
   },
   "outputs": [
    {
     "name": "stdout",
     "output_type": "stream",
     "text": [
      "Maxime Vachier-Lagrave (2804) 21.6 %\n",
      "Levon Aronian (2802) 16.9 %\n",
      "Wesley So (2792) 15.3 %\n",
      "Alexander Grischuk (2788) 12.2 %\n",
      "Anish Giri (2777) 6.1 %\n",
      "Ian Nepomniachtchi (2741) 6.1 %\n",
      "Fabiano Caruana (2799) 5.9 %\n",
      "Peter Svidler (2756) 5.0 %\n",
      "Vassily Ivanchuk (2727) 2.6 %\n",
      "Ding Liren (2771) 1.7 %\n",
      "Vladimir Fedoseev (2731) 1.6 %\n",
      "Wang Hao (2701) 1.5 %\n",
      "Bu Xiangzhi (2714) 0.7 %\n",
      "Li Chao (2745) 0.7 %\n",
      "Maxim Matlakov (2728) 0.5 %\n",
      "Maxim Rodshtein (2695) 0.5 %\n",
      "David Navara (2720) 0.3 %\n",
      "Richard Rapport (2675) 0.3 %\n",
      "Vidit Santosh Gujrathi (2702) 0.2 %\n",
      "Baadur Jobava (2702) 0.2 %\n",
      "Daniil Dubov (2666) 0.1 %\n",
      "Vladislav Artemiev (2692) 0.0 %\n",
      "Magnus Carlsen (2827) 0.0 %\n",
      "Evgeniy Najer (2694) 0.0 %\n",
      "Sethuraman P Sethuraman (2617) 0.0 %\n",
      "Vladimir Kramnik (2803) 0.0 %\n",
      "Aleksandr Lenderman (2565) 0.0 %\n",
      "Hikaru Nakamura (2781) 0.0 %\n",
      "Alexander Onischuk (2682) 0.0 %\n",
      "Anton Kovalyov (2649) 0.0 %\n",
      "Francisco Vallejo Pons (2716) 0.0 %\n",
      "Yuriy Kuzubov (2688) 0.0 %\n"
     ]
    }
   ],
   "source": [
    "for player in simulated_players:\n",
    "    print(player, round(player.win_percentage*100, 3), \"%\")"
   ]
  },
  {
   "cell_type": "code",
   "execution_count": 26,
   "metadata": {
    "scrolled": true
   },
   "outputs": [
    {
     "name": "stdout",
     "output_type": "stream",
     "text": [
      "----------\n",
      "Round 3\n",
      "----------\n",
      "Match Levon Aronian (2802) vs. Maxim Matlakov (2728)\n",
      "Game 3: Rapid\n",
      "Draw\n",
      "Game 4: Rapid\n",
      "Levon Aronian won\n",
      "Levon Aronian (2802) won the match\n",
      "Match Vladislav Artemiev (2692) vs. Daniil Dubov (2666)\n",
      "Daniil Dubov (2666) won the match\n",
      "Match Magnus Carlsen (2827) vs. Bu Xiangzhi (2714)\n",
      "Bu Xiangzhi (2714) won the match\n",
      "Match Fabiano Caruana (2799) vs. Evgeniy Najer (2694)\n",
      "Game 3: Rapid\n",
      "Draw\n",
      "Game 4: Rapid\n",
      "Fabiano Caruana won\n",
      "Fabiano Caruana (2799) won the match\n",
      "Match Ding Liren (2771) vs. Vidit Santosh Gujrathi (2702)\n",
      "Game 3: Rapid\n",
      "Draw\n",
      "Game 4: Rapid\n",
      "Draw\n",
      "Game 5: Rapid\n",
      "Ding Liren won\n",
      "Game 6: Rapid\n",
      "Ding Liren won\n",
      "Ding Liren (2771) won the match\n",
      "Match Anish Giri (2777) vs. Sethuraman P Sethuraman (2617)\n",
      "Game 3: Rapid\n",
      "Anish Giri won\n",
      "Game 4: Rapid\n",
      "Anish Giri won\n",
      "Anish Giri (2777) won the match\n",
      "Match Alexander Grischuk (2788) vs. David Navara (2720)\n",
      "Game 3: Rapid\n",
      "Draw\n",
      "Game 4: Rapid\n",
      "Draw\n",
      "Game 5: Rapid\n",
      "Alexander Grischuk won\n",
      "Game 6: Rapid\n",
      "Draw\n",
      "Alexander Grischuk (2788) won the match\n",
      "Match Vassily Ivanchuk (2727) vs. Vladimir Kramnik (2803)\n",
      "Vassily Ivanchuk (2727) won the match\n",
      "Match Aleksandr Lenderman (2565) vs. Maxime Vachier-Lagrave (2804)\n",
      "Game 3: Rapid\n",
      "Maxime Vachier-Lagrave won\n",
      "Game 4: Rapid\n",
      "Maxime Vachier-Lagrave won\n",
      "Maxime Vachier-Lagrave (2804) won the match\n",
      "Match Li Chao (2745) vs. Richard Rapport (2675)\n",
      "Game 3: Rapid\n",
      "Richard Rapport won\n",
      "Game 4: Rapid\n",
      "Richard Rapport won\n",
      "Richard Rapport (2675) won the match\n",
      "Match Hikaru Nakamura (2781) vs. Vladimir Fedoseev (2731)\n",
      "Vladimir Fedoseev (2731) won the match\n",
      "Match Ian Nepomniachtchi (2741) vs. Baadur Jobava (2702)\n",
      "Game 3: Rapid\n",
      "Ian Nepomniachtchi won\n",
      "Game 4: Rapid\n",
      "Ian Nepomniachtchi won\n",
      "Ian Nepomniachtchi (2741) won the match\n",
      "Match Alexander Onischuk (2682) vs. Peter Svidler (2756)\n",
      "Peter Svidler (2756) won the match\n",
      "Match Maxim Rodshtein (2695) vs. Anton Kovalyov (2649)\n",
      "Maxim Rodshtein (2695) won the match\n",
      "Match Francisco Vallejo Pons (2716) vs. Wesley So (2792)\n",
      "Wesley So (2792) won the match\n",
      "Match Wang Hao (2701) vs. Yuriy Kuzubov (2688)\n",
      "Wang Hao (2701) won the match\n",
      "----------\n",
      "Round 4\n",
      "----------\n",
      "Match Levon Aronian (2802) vs. Daniil Dubov (2666)\n",
      "Game 1: Classical\n",
      "Levon Aronian won\n",
      "Game 2: Classical\n",
      "Daniil Dubov won\n",
      "Game 3: Rapid\n",
      "Draw\n",
      "Game 4: Rapid\n",
      "Levon Aronian won\n",
      "Levon Aronian (2802) won the match\n",
      "Match Bu Xiangzhi (2714) vs. Fabiano Caruana (2799)\n",
      "Game 1: Classical\n",
      "Fabiano Caruana won\n",
      "Game 2: Classical\n",
      "Fabiano Caruana won\n",
      "Fabiano Caruana (2799) won the match\n",
      "Match Ding Liren (2771) vs. Anish Giri (2777)\n",
      "Game 1: Classical\n",
      "Anish Giri won\n",
      "Game 2: Classical\n",
      "Draw\n",
      "Anish Giri (2777) won the match\n",
      "Match Alexander Grischuk (2788) vs. Vassily Ivanchuk (2727)\n",
      "Game 1: Classical\n",
      "Alexander Grischuk won\n",
      "Game 2: Classical\n",
      "Alexander Grischuk won\n",
      "Alexander Grischuk (2788) won the match\n",
      "Match Maxime Vachier-Lagrave (2804) vs. Richard Rapport (2675)\n",
      "Game 1: Classical\n",
      "Richard Rapport won\n",
      "Game 2: Classical\n",
      "Maxime Vachier-Lagrave won\n",
      "Game 3: Rapid\n",
      "Draw\n",
      "Game 4: Rapid\n",
      "Draw\n",
      "Game 5: Rapid\n",
      "Maxime Vachier-Lagrave won\n",
      "Game 6: Rapid\n",
      "Draw\n",
      "Maxime Vachier-Lagrave (2804) won the match\n",
      "Match Vladimir Fedoseev (2731) vs. Ian Nepomniachtchi (2741)\n",
      "Game 1: Classical\n",
      "Ian Nepomniachtchi won\n",
      "Game 2: Classical\n",
      "Draw\n",
      "Ian Nepomniachtchi (2741) won the match\n",
      "Match Peter Svidler (2756) vs. Maxim Rodshtein (2695)\n",
      "Game 1: Classical\n",
      "Peter Svidler won\n",
      "Game 2: Classical\n",
      "Peter Svidler won\n",
      "Peter Svidler (2756) won the match\n",
      "Match Wesley So (2792) vs. Wang Hao (2701)\n",
      "Game 1: Classical\n",
      "Draw\n",
      "Game 2: Classical\n",
      "Draw\n",
      "Game 3: Rapid\n",
      "Wesley So won\n",
      "Game 4: Rapid\n",
      "Wesley So won\n",
      "Wesley So (2792) won the match\n",
      "----------\n",
      "Round 5\n",
      "----------\n",
      "Match Levon Aronian (2802) vs. Fabiano Caruana (2799)\n",
      "Game 1: Classical\n",
      "Draw\n",
      "Game 2: Classical\n",
      "Draw\n",
      "Game 3: Rapid\n",
      "Levon Aronian won\n",
      "Game 4: Rapid\n",
      "Levon Aronian won\n",
      "Levon Aronian (2802) won the match\n",
      "Match Anish Giri (2777) vs. Alexander Grischuk (2788)\n",
      "Game 1: Classical\n",
      "Anish Giri won\n",
      "Game 2: Classical\n",
      "Anish Giri won\n",
      "Anish Giri (2777) won the match\n",
      "Match Maxime Vachier-Lagrave (2804) vs. Ian Nepomniachtchi (2741)\n",
      "Game 1: Classical\n",
      "Draw\n",
      "Game 2: Classical\n",
      "Draw\n",
      "Game 3: Rapid\n",
      "Draw\n",
      "Game 4: Rapid\n",
      "Draw\n",
      "Game 5: Rapid\n",
      "Draw\n",
      "Game 6: Rapid\n",
      "Maxime Vachier-Lagrave won\n",
      "Maxime Vachier-Lagrave (2804) won the match\n",
      "Match Peter Svidler (2756) vs. Wesley So (2792)\n",
      "Game 1: Classical\n",
      "Wesley So won\n",
      "Game 2: Classical\n",
      "Draw\n",
      "Wesley So (2792) won the match\n",
      "----------\n",
      "Round 6\n",
      "----------\n",
      "Match Levon Aronian (2802) vs. Anish Giri (2777)\n",
      "Game 1: Classical\n",
      "Draw\n",
      "Game 2: Classical\n",
      "Draw\n",
      "Game 3: Rapid\n",
      "Draw\n",
      "Game 4: Rapid\n",
      "Anish Giri won\n",
      "Anish Giri (2777) won the match\n",
      "Match Maxime Vachier-Lagrave (2804) vs. Wesley So (2792)\n",
      "Game 1: Classical\n",
      "Draw\n",
      "Game 2: Classical\n",
      "Maxime Vachier-Lagrave won\n",
      "Maxime Vachier-Lagrave (2804) won the match\n",
      "----------\n",
      "Round 7\n",
      "----------\n",
      "Match Anish Giri (2777) vs. Maxime Vachier-Lagrave (2804)\n",
      "Game 1: Classical\n",
      "Draw\n",
      "Game 2: Classical\n",
      "Maxime Vachier-Lagrave won\n",
      "Maxime Vachier-Lagrave (2804) won the match\n"
     ]
    },
    {
     "data": {
      "text/plain": [
       "Maxime Vachier-Lagrave (2804)"
      ]
     },
     "execution_count": 26,
     "metadata": {},
     "output_type": "execute_result"
    }
   ],
   "source": [
    "W = 10\n",
    "verbosity = 1\n",
    "simulate_worldcup(players, 3, W, verbosity)"
   ]
  },
  {
   "cell_type": "code",
   "execution_count": null,
   "metadata": {
    "collapsed": true
   },
   "outputs": [],
   "source": []
  }
 ],
 "metadata": {
  "anaconda-cloud": {},
  "kernelspec": {
   "display_name": "Python 3",
   "language": "python",
   "name": "python3"
  },
  "language_info": {
   "codemirror_mode": {
    "name": "ipython",
    "version": 3
   },
   "file_extension": ".py",
   "mimetype": "text/x-python",
   "name": "python",
   "nbconvert_exporter": "python",
   "pygments_lexer": "ipython3",
   "version": "3.6.1"
  }
 },
 "nbformat": 4,
 "nbformat_minor": 1
}
