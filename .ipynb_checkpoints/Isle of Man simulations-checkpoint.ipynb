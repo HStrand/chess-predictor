{
 "cells": [
  {
   "cell_type": "code",
   "execution_count": 1,
   "metadata": {
    "collapsed": true
   },
   "outputs": [],
   "source": [
    "import pandas as pd\n",
    "from player import Player\n",
    "from ratingscraper import *\n",
    "from scorescraper import *\n",
    "from estimation import *\n",
    "from simulations import *"
   ]
  },
  {
   "cell_type": "markdown",
   "metadata": {},
   "source": [
    "## Generate players"
   ]
  },
  {
   "cell_type": "code",
   "execution_count": 2,
   "metadata": {
    "collapsed": true
   },
   "outputs": [],
   "source": [
    "df = pd.read_csv(\"isleofman.csv\")"
   ]
  },
  {
   "cell_type": "code",
   "execution_count": 3,
   "metadata": {},
   "outputs": [
    {
     "data": {
      "text/html": [
       "<div>\n",
       "<style>\n",
       "    .dataframe thead tr:only-child th {\n",
       "        text-align: right;\n",
       "    }\n",
       "\n",
       "    .dataframe thead th {\n",
       "        text-align: left;\n",
       "    }\n",
       "\n",
       "    .dataframe tbody tr th {\n",
       "        vertical-align: top;\n",
       "    }\n",
       "</style>\n",
       "<table border=\"1\" class=\"dataframe\">\n",
       "  <thead>\n",
       "    <tr style=\"text-align: right;\">\n",
       "      <th></th>\n",
       "      <th>Title</th>\n",
       "      <th>LastName</th>\n",
       "      <th>FirstName</th>\n",
       "      <th>Country</th>\n",
       "      <th>Rating</th>\n",
       "    </tr>\n",
       "  </thead>\n",
       "  <tbody>\n",
       "    <tr>\n",
       "      <th>0</th>\n",
       "      <td>GM</td>\n",
       "      <td>Carlsen</td>\n",
       "      <td>Magnus</td>\n",
       "      <td>Norway</td>\n",
       "      <td>2827</td>\n",
       "    </tr>\n",
       "    <tr>\n",
       "      <th>1</th>\n",
       "      <td>GM</td>\n",
       "      <td>Vachier-Lagrave</td>\n",
       "      <td>Maxime</td>\n",
       "      <td>France</td>\n",
       "      <td>2804</td>\n",
       "    </tr>\n",
       "    <tr>\n",
       "      <th>2</th>\n",
       "      <td>GM</td>\n",
       "      <td>Kramnik</td>\n",
       "      <td>Vladimir</td>\n",
       "      <td>Russia</td>\n",
       "      <td>2803</td>\n",
       "    </tr>\n",
       "    <tr>\n",
       "      <th>3</th>\n",
       "      <td>GM</td>\n",
       "      <td>Caruana</td>\n",
       "      <td>Fabiano</td>\n",
       "      <td>United States</td>\n",
       "      <td>2799</td>\n",
       "    </tr>\n",
       "    <tr>\n",
       "      <th>4</th>\n",
       "      <td>GM</td>\n",
       "      <td>Anand</td>\n",
       "      <td>Viswanathan</td>\n",
       "      <td>India</td>\n",
       "      <td>2794</td>\n",
       "    </tr>\n",
       "  </tbody>\n",
       "</table>\n",
       "</div>"
      ],
      "text/plain": [
       "  Title         LastName    FirstName        Country  Rating\n",
       "0    GM          Carlsen       Magnus         Norway    2827\n",
       "1    GM  Vachier-Lagrave       Maxime         France    2804\n",
       "2    GM          Kramnik     Vladimir         Russia    2803\n",
       "3    GM          Caruana      Fabiano  United States    2799\n",
       "4    GM            Anand  Viswanathan          India    2794"
      ]
     },
     "execution_count": 3,
     "metadata": {},
     "output_type": "execute_result"
    }
   ],
   "source": [
    "df.head()"
   ]
  },
  {
   "cell_type": "code",
   "execution_count": 4,
   "metadata": {
    "collapsed": true
   },
   "outputs": [],
   "source": [
    "players = []\n",
    "for x in df.iterrows():\n",
    "    row = x[1]\n",
    "    players.append(Player(row[\"FirstName\"] + \" \" + row[\"LastName\"], rating=row[\"Rating\"], federation=row[\"Country\"]))"
   ]
  },
  {
   "cell_type": "code",
   "execution_count": 5,
   "metadata": {},
   "outputs": [
    {
     "data": {
      "text/plain": [
       "[Magnus Carlsen (2827),\n",
       " Maxime Vachier-Lagrave (2804),\n",
       " Vladimir Kramnik (2803),\n",
       " Fabiano Caruana (2799),\n",
       " Viswanathan Anand (2794),\n",
       " Wesley So (2792),\n",
       " Hikaru Nakamura (2781),\n",
       " Michael Adams (2738),\n",
       " Boris Gelfand (2737),\n",
       " Pavel Eljanov (2734)]"
      ]
     },
     "execution_count": 5,
     "metadata": {},
     "output_type": "execute_result"
    }
   ],
   "source": [
    "players[:10]"
   ]
  },
  {
   "cell_type": "markdown",
   "metadata": {},
   "source": [
    "To save some processing time, we only scrape the ratings of the top 10 players. This will only improve the simulations of games between these players while the other simulations will be purely based on rating."
   ]
  },
  {
   "cell_type": "code",
   "execution_count": 6,
   "metadata": {
    "scrolled": true
   },
   "outputs": [
    {
     "name": "stdout",
     "output_type": "stream",
     "text": [
      "Fetching head-to-head score between Magnus Carlsen and Magnus Carlsen\n",
      "Fetching head-to-head score between Magnus Carlsen and Maxime Vachier-Lagrave\n",
      "Fetching head-to-head score between Magnus Carlsen and Vladimir Kramnik\n",
      "Fetching head-to-head score between Magnus Carlsen and Fabiano Caruana\n",
      "Fetching head-to-head score between Magnus Carlsen and Viswanathan Anand\n",
      "Fetching head-to-head score between Magnus Carlsen and Wesley So\n",
      "Fetching head-to-head score between Magnus Carlsen and Hikaru Nakamura\n",
      "Fetching head-to-head score between Magnus Carlsen and Michael Adams\n",
      "Fetching head-to-head score between Magnus Carlsen and Boris Gelfand\n",
      "Fetching head-to-head score between Magnus Carlsen and Pavel Eljanov\n",
      "Fetching head-to-head score between Maxime Vachier-Lagrave and Magnus Carlsen\n",
      "Fetching head-to-head score between Maxime Vachier-Lagrave and Maxime Vachier-Lagrave\n",
      "Fetching head-to-head score between Maxime Vachier-Lagrave and Vladimir Kramnik\n",
      "Fetching head-to-head score between Maxime Vachier-Lagrave and Fabiano Caruana\n",
      "Fetching head-to-head score between Maxime Vachier-Lagrave and Viswanathan Anand\n",
      "Fetching head-to-head score between Maxime Vachier-Lagrave and Wesley So\n",
      "Fetching head-to-head score between Maxime Vachier-Lagrave and Hikaru Nakamura\n",
      "Fetching head-to-head score between Maxime Vachier-Lagrave and Michael Adams\n",
      "Fetching head-to-head score between Maxime Vachier-Lagrave and Boris Gelfand\n",
      "Fetching head-to-head score between Maxime Vachier-Lagrave and Pavel Eljanov\n",
      "Fetching head-to-head score between Vladimir Kramnik and Magnus Carlsen\n",
      "Fetching head-to-head score between Vladimir Kramnik and Maxime Vachier-Lagrave\n",
      "Fetching head-to-head score between Vladimir Kramnik and Vladimir Kramnik\n",
      "Fetching head-to-head score between Vladimir Kramnik and Fabiano Caruana\n",
      "Fetching head-to-head score between Vladimir Kramnik and Viswanathan Anand\n",
      "Fetching head-to-head score between Vladimir Kramnik and Wesley So\n",
      "Fetching head-to-head score between Vladimir Kramnik and Hikaru Nakamura\n",
      "Fetching head-to-head score between Vladimir Kramnik and Michael Adams\n",
      "Fetching head-to-head score between Vladimir Kramnik and Boris Gelfand\n",
      "Fetching head-to-head score between Vladimir Kramnik and Pavel Eljanov\n",
      "Fetching head-to-head score between Fabiano Caruana and Magnus Carlsen\n",
      "Fetching head-to-head score between Fabiano Caruana and Maxime Vachier-Lagrave\n",
      "Fetching head-to-head score between Fabiano Caruana and Vladimir Kramnik\n",
      "Fetching head-to-head score between Fabiano Caruana and Fabiano Caruana\n",
      "Fetching head-to-head score between Fabiano Caruana and Viswanathan Anand\n",
      "Fetching head-to-head score between Fabiano Caruana and Wesley So\n",
      "Fetching head-to-head score between Fabiano Caruana and Hikaru Nakamura\n",
      "Fetching head-to-head score between Fabiano Caruana and Michael Adams\n",
      "Fetching head-to-head score between Fabiano Caruana and Boris Gelfand\n",
      "Fetching head-to-head score between Fabiano Caruana and Pavel Eljanov\n",
      "Fetching head-to-head score between Viswanathan Anand and Magnus Carlsen\n",
      "Fetching head-to-head score between Viswanathan Anand and Maxime Vachier-Lagrave\n",
      "Fetching head-to-head score between Viswanathan Anand and Vladimir Kramnik\n",
      "Fetching head-to-head score between Viswanathan Anand and Fabiano Caruana\n",
      "Fetching head-to-head score between Viswanathan Anand and Viswanathan Anand\n",
      "Fetching head-to-head score between Viswanathan Anand and Wesley So\n",
      "Fetching head-to-head score between Viswanathan Anand and Hikaru Nakamura\n",
      "Fetching head-to-head score between Viswanathan Anand and Michael Adams\n",
      "Fetching head-to-head score between Viswanathan Anand and Boris Gelfand\n",
      "Fetching head-to-head score between Viswanathan Anand and Pavel Eljanov\n",
      "Fetching head-to-head score between Wesley So and Magnus Carlsen\n",
      "Fetching head-to-head score between Wesley So and Maxime Vachier-Lagrave\n",
      "Fetching head-to-head score between Wesley So and Vladimir Kramnik\n",
      "Fetching head-to-head score between Wesley So and Fabiano Caruana\n",
      "Fetching head-to-head score between Wesley So and Viswanathan Anand\n",
      "Fetching head-to-head score between Wesley So and Wesley So\n",
      "Fetching head-to-head score between Wesley So and Hikaru Nakamura\n",
      "Fetching head-to-head score between Wesley So and Michael Adams\n",
      "Fetching head-to-head score between Wesley So and Boris Gelfand\n",
      "Fetching head-to-head score between Wesley So and Pavel Eljanov\n",
      "Fetching head-to-head score between Hikaru Nakamura and Magnus Carlsen\n",
      "Fetching head-to-head score between Hikaru Nakamura and Maxime Vachier-Lagrave\n",
      "Fetching head-to-head score between Hikaru Nakamura and Vladimir Kramnik\n",
      "Fetching head-to-head score between Hikaru Nakamura and Fabiano Caruana\n",
      "Fetching head-to-head score between Hikaru Nakamura and Viswanathan Anand\n",
      "Fetching head-to-head score between Hikaru Nakamura and Wesley So\n",
      "Fetching head-to-head score between Hikaru Nakamura and Hikaru Nakamura\n",
      "Fetching head-to-head score between Hikaru Nakamura and Michael Adams\n",
      "Fetching head-to-head score between Hikaru Nakamura and Boris Gelfand\n",
      "Fetching head-to-head score between Hikaru Nakamura and Pavel Eljanov\n",
      "Fetching head-to-head score between Michael Adams and Magnus Carlsen\n",
      "Fetching head-to-head score between Michael Adams and Maxime Vachier-Lagrave\n",
      "Fetching head-to-head score between Michael Adams and Vladimir Kramnik\n",
      "Fetching head-to-head score between Michael Adams and Fabiano Caruana\n",
      "Fetching head-to-head score between Michael Adams and Viswanathan Anand\n",
      "Fetching head-to-head score between Michael Adams and Wesley So\n",
      "Fetching head-to-head score between Michael Adams and Hikaru Nakamura\n",
      "Fetching head-to-head score between Michael Adams and Michael Adams\n",
      "Fetching head-to-head score between Michael Adams and Boris Gelfand\n",
      "Fetching head-to-head score between Michael Adams and Pavel Eljanov\n",
      "Fetching head-to-head score between Boris Gelfand and Magnus Carlsen\n",
      "Fetching head-to-head score between Boris Gelfand and Maxime Vachier-Lagrave\n",
      "Fetching head-to-head score between Boris Gelfand and Vladimir Kramnik\n",
      "Fetching head-to-head score between Boris Gelfand and Fabiano Caruana\n",
      "Fetching head-to-head score between Boris Gelfand and Viswanathan Anand\n",
      "Fetching head-to-head score between Boris Gelfand and Wesley So\n",
      "Fetching head-to-head score between Boris Gelfand and Hikaru Nakamura\n",
      "Fetching head-to-head score between Boris Gelfand and Michael Adams\n",
      "Fetching head-to-head score between Boris Gelfand and Boris Gelfand\n",
      "Fetching head-to-head score between Boris Gelfand and Pavel Eljanov\n",
      "Fetching head-to-head score between Pavel Eljanov and Magnus Carlsen\n",
      "Fetching head-to-head score between Pavel Eljanov and Maxime Vachier-Lagrave\n",
      "Fetching head-to-head score between Pavel Eljanov and Vladimir Kramnik\n",
      "Fetching head-to-head score between Pavel Eljanov and Fabiano Caruana\n",
      "Fetching head-to-head score between Pavel Eljanov and Viswanathan Anand\n",
      "Fetching head-to-head score between Pavel Eljanov and Wesley So\n",
      "Fetching head-to-head score between Pavel Eljanov and Hikaru Nakamura\n",
      "Fetching head-to-head score between Pavel Eljanov and Michael Adams\n",
      "Fetching head-to-head score between Pavel Eljanov and Boris Gelfand\n",
      "Fetching head-to-head score between Pavel Eljanov and Pavel Eljanov\n"
     ]
    }
   ],
   "source": [
    "scrape_scores(players[:10], include_rapidblitz=False)"
   ]
  },
  {
   "cell_type": "code",
   "execution_count": null,
   "metadata": {
    "collapsed": true
   },
   "outputs": [],
   "source": []
  }
 ],
 "metadata": {
  "kernelspec": {
   "display_name": "Python 3",
   "language": "python",
   "name": "python3"
  },
  "language_info": {
   "codemirror_mode": {
    "name": "ipython",
    "version": 3
   },
   "file_extension": ".py",
   "mimetype": "text/x-python",
   "name": "python",
   "nbconvert_exporter": "python",
   "pygments_lexer": "ipython3",
   "version": "3.6.1"
  }
 },
 "nbformat": 4,
 "nbformat_minor": 2
}
